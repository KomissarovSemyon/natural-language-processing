{
  "nbformat": 4,
  "nbformat_minor": 0,
  "metadata": {
    "kernelspec": {
      "display_name": "Python 3",
      "language": "python",
      "name": "python3"
    },
    "language_info": {
      "codemirror_mode": {
        "name": "ipython",
        "version": 3
      },
      "file_extension": ".py",
      "mimetype": "text/x-python",
      "name": "python",
      "nbconvert_exporter": "python",
      "pygments_lexer": "ipython3",
      "version": "3.4.3"
    },
    "colab": {
      "name": "week1-MultilabelClassification.ipynb",
      "provenance": [],
      "collapsed_sections": []
    },
    "widgets": {
      "application/vnd.jupyter.widget-state+json": {
        "01b0db04de454c0889ddc0ebff28c811": {
          "model_module": "@jupyter-widgets/controls",
          "model_name": "HBoxModel",
          "state": {
            "_view_name": "HBoxView",
            "_dom_classes": [],
            "_model_name": "HBoxModel",
            "_view_module": "@jupyter-widgets/controls",
            "_model_module_version": "1.5.0",
            "_view_count": null,
            "_view_module_version": "1.5.0",
            "box_style": "",
            "layout": "IPY_MODEL_6fa08a8bffdd4514a10fb041c4ba3e74",
            "_model_module": "@jupyter-widgets/controls",
            "children": [
              "IPY_MODEL_9b7039e5407441009e48a9b2f9995d0b",
              "IPY_MODEL_2f517b8e3f7b46d6ab7e70e61039ca4f",
              "IPY_MODEL_cd783bd5fc834d5dbfc81cb7db7c5444"
            ]
          }
        },
        "6fa08a8bffdd4514a10fb041c4ba3e74": {
          "model_module": "@jupyter-widgets/base",
          "model_name": "LayoutModel",
          "state": {
            "_view_name": "LayoutView",
            "grid_template_rows": null,
            "right": null,
            "justify_content": null,
            "_view_module": "@jupyter-widgets/base",
            "overflow": null,
            "_model_module_version": "1.2.0",
            "_view_count": null,
            "flex_flow": null,
            "width": null,
            "min_width": null,
            "border": null,
            "align_items": null,
            "bottom": null,
            "_model_module": "@jupyter-widgets/base",
            "top": null,
            "grid_column": null,
            "overflow_y": null,
            "overflow_x": null,
            "grid_auto_flow": null,
            "grid_area": null,
            "grid_template_columns": null,
            "flex": null,
            "_model_name": "LayoutModel",
            "justify_items": null,
            "grid_row": null,
            "max_height": null,
            "align_content": null,
            "visibility": null,
            "align_self": null,
            "height": null,
            "min_height": null,
            "padding": null,
            "grid_auto_rows": null,
            "grid_gap": null,
            "max_width": null,
            "order": null,
            "_view_module_version": "1.2.0",
            "grid_template_areas": null,
            "object_position": null,
            "object_fit": null,
            "grid_auto_columns": null,
            "margin": null,
            "display": null,
            "left": null
          }
        },
        "9b7039e5407441009e48a9b2f9995d0b": {
          "model_module": "@jupyter-widgets/controls",
          "model_name": "HTMLModel",
          "state": {
            "_view_name": "HTMLView",
            "style": "IPY_MODEL_6d80a34c2cd447ef940944bc3ab300aa",
            "_dom_classes": [],
            "description": "",
            "_model_name": "HTMLModel",
            "placeholder": "​",
            "_view_module": "@jupyter-widgets/controls",
            "_model_module_version": "1.5.0",
            "value": "train.tsv: 100%",
            "_view_count": null,
            "_view_module_version": "1.5.0",
            "description_tooltip": null,
            "_model_module": "@jupyter-widgets/controls",
            "layout": "IPY_MODEL_375131c7974c469b9d432c1a94b482ce"
          }
        },
        "2f517b8e3f7b46d6ab7e70e61039ca4f": {
          "model_module": "@jupyter-widgets/controls",
          "model_name": "FloatProgressModel",
          "state": {
            "_view_name": "ProgressView",
            "style": "IPY_MODEL_f54558556e204d719d6a218b06e10f31",
            "_dom_classes": [],
            "description": "",
            "_model_name": "FloatProgressModel",
            "bar_style": "success",
            "max": 7196138,
            "_view_module": "@jupyter-widgets/controls",
            "_model_module_version": "1.5.0",
            "value": 7196138,
            "_view_count": null,
            "_view_module_version": "1.5.0",
            "orientation": "horizontal",
            "min": 0,
            "description_tooltip": null,
            "_model_module": "@jupyter-widgets/controls",
            "layout": "IPY_MODEL_5cfbcdf0a5fc4138808e83637cd6068f"
          }
        },
        "cd783bd5fc834d5dbfc81cb7db7c5444": {
          "model_module": "@jupyter-widgets/controls",
          "model_name": "HTMLModel",
          "state": {
            "_view_name": "HTMLView",
            "style": "IPY_MODEL_abf29e6fe28045c2b8244ff93232e5ee",
            "_dom_classes": [],
            "description": "",
            "_model_name": "HTMLModel",
            "placeholder": "​",
            "_view_module": "@jupyter-widgets/controls",
            "_model_module_version": "1.5.0",
            "value": " 7.20M/7.20M [00:05&lt;00:00, 1.42MB/s]",
            "_view_count": null,
            "_view_module_version": "1.5.0",
            "description_tooltip": null,
            "_model_module": "@jupyter-widgets/controls",
            "layout": "IPY_MODEL_47c735d8def94ef48ad39de3e1b06b77"
          }
        },
        "6d80a34c2cd447ef940944bc3ab300aa": {
          "model_module": "@jupyter-widgets/controls",
          "model_name": "DescriptionStyleModel",
          "state": {
            "_view_name": "StyleView",
            "_model_name": "DescriptionStyleModel",
            "description_width": "",
            "_view_module": "@jupyter-widgets/base",
            "_model_module_version": "1.5.0",
            "_view_count": null,
            "_view_module_version": "1.2.0",
            "_model_module": "@jupyter-widgets/controls"
          }
        },
        "375131c7974c469b9d432c1a94b482ce": {
          "model_module": "@jupyter-widgets/base",
          "model_name": "LayoutModel",
          "state": {
            "_view_name": "LayoutView",
            "grid_template_rows": null,
            "right": null,
            "justify_content": null,
            "_view_module": "@jupyter-widgets/base",
            "overflow": null,
            "_model_module_version": "1.2.0",
            "_view_count": null,
            "flex_flow": null,
            "width": null,
            "min_width": null,
            "border": null,
            "align_items": null,
            "bottom": null,
            "_model_module": "@jupyter-widgets/base",
            "top": null,
            "grid_column": null,
            "overflow_y": null,
            "overflow_x": null,
            "grid_auto_flow": null,
            "grid_area": null,
            "grid_template_columns": null,
            "flex": null,
            "_model_name": "LayoutModel",
            "justify_items": null,
            "grid_row": null,
            "max_height": null,
            "align_content": null,
            "visibility": null,
            "align_self": null,
            "height": null,
            "min_height": null,
            "padding": null,
            "grid_auto_rows": null,
            "grid_gap": null,
            "max_width": null,
            "order": null,
            "_view_module_version": "1.2.0",
            "grid_template_areas": null,
            "object_position": null,
            "object_fit": null,
            "grid_auto_columns": null,
            "margin": null,
            "display": null,
            "left": null
          }
        },
        "f54558556e204d719d6a218b06e10f31": {
          "model_module": "@jupyter-widgets/controls",
          "model_name": "ProgressStyleModel",
          "state": {
            "_view_name": "StyleView",
            "_model_name": "ProgressStyleModel",
            "description_width": "",
            "_view_module": "@jupyter-widgets/base",
            "_model_module_version": "1.5.0",
            "_view_count": null,
            "_view_module_version": "1.2.0",
            "bar_color": null,
            "_model_module": "@jupyter-widgets/controls"
          }
        },
        "5cfbcdf0a5fc4138808e83637cd6068f": {
          "model_module": "@jupyter-widgets/base",
          "model_name": "LayoutModel",
          "state": {
            "_view_name": "LayoutView",
            "grid_template_rows": null,
            "right": null,
            "justify_content": null,
            "_view_module": "@jupyter-widgets/base",
            "overflow": null,
            "_model_module_version": "1.2.0",
            "_view_count": null,
            "flex_flow": null,
            "width": null,
            "min_width": null,
            "border": null,
            "align_items": null,
            "bottom": null,
            "_model_module": "@jupyter-widgets/base",
            "top": null,
            "grid_column": null,
            "overflow_y": null,
            "overflow_x": null,
            "grid_auto_flow": null,
            "grid_area": null,
            "grid_template_columns": null,
            "flex": null,
            "_model_name": "LayoutModel",
            "justify_items": null,
            "grid_row": null,
            "max_height": null,
            "align_content": null,
            "visibility": null,
            "align_self": null,
            "height": null,
            "min_height": null,
            "padding": null,
            "grid_auto_rows": null,
            "grid_gap": null,
            "max_width": null,
            "order": null,
            "_view_module_version": "1.2.0",
            "grid_template_areas": null,
            "object_position": null,
            "object_fit": null,
            "grid_auto_columns": null,
            "margin": null,
            "display": null,
            "left": null
          }
        },
        "abf29e6fe28045c2b8244ff93232e5ee": {
          "model_module": "@jupyter-widgets/controls",
          "model_name": "DescriptionStyleModel",
          "state": {
            "_view_name": "StyleView",
            "_model_name": "DescriptionStyleModel",
            "description_width": "",
            "_view_module": "@jupyter-widgets/base",
            "_model_module_version": "1.5.0",
            "_view_count": null,
            "_view_module_version": "1.2.0",
            "_model_module": "@jupyter-widgets/controls"
          }
        },
        "47c735d8def94ef48ad39de3e1b06b77": {
          "model_module": "@jupyter-widgets/base",
          "model_name": "LayoutModel",
          "state": {
            "_view_name": "LayoutView",
            "grid_template_rows": null,
            "right": null,
            "justify_content": null,
            "_view_module": "@jupyter-widgets/base",
            "overflow": null,
            "_model_module_version": "1.2.0",
            "_view_count": null,
            "flex_flow": null,
            "width": null,
            "min_width": null,
            "border": null,
            "align_items": null,
            "bottom": null,
            "_model_module": "@jupyter-widgets/base",
            "top": null,
            "grid_column": null,
            "overflow_y": null,
            "overflow_x": null,
            "grid_auto_flow": null,
            "grid_area": null,
            "grid_template_columns": null,
            "flex": null,
            "_model_name": "LayoutModel",
            "justify_items": null,
            "grid_row": null,
            "max_height": null,
            "align_content": null,
            "visibility": null,
            "align_self": null,
            "height": null,
            "min_height": null,
            "padding": null,
            "grid_auto_rows": null,
            "grid_gap": null,
            "max_width": null,
            "order": null,
            "_view_module_version": "1.2.0",
            "grid_template_areas": null,
            "object_position": null,
            "object_fit": null,
            "grid_auto_columns": null,
            "margin": null,
            "display": null,
            "left": null
          }
        },
        "95536657f93246058b5bd155aaaaa332": {
          "model_module": "@jupyter-widgets/controls",
          "model_name": "HBoxModel",
          "state": {
            "_view_name": "HBoxView",
            "_dom_classes": [],
            "_model_name": "HBoxModel",
            "_view_module": "@jupyter-widgets/controls",
            "_model_module_version": "1.5.0",
            "_view_count": null,
            "_view_module_version": "1.5.0",
            "box_style": "",
            "layout": "IPY_MODEL_6e4abf38d9584c91a1e80c3524e03db9",
            "_model_module": "@jupyter-widgets/controls",
            "children": [
              "IPY_MODEL_428c446fa0f04aefb606dc13b8dd7930",
              "IPY_MODEL_89903c23ff6d4dd780396fa80a6a131e",
              "IPY_MODEL_3a17e0ffe0ec4678ae91773a6386cd21"
            ]
          }
        },
        "6e4abf38d9584c91a1e80c3524e03db9": {
          "model_module": "@jupyter-widgets/base",
          "model_name": "LayoutModel",
          "state": {
            "_view_name": "LayoutView",
            "grid_template_rows": null,
            "right": null,
            "justify_content": null,
            "_view_module": "@jupyter-widgets/base",
            "overflow": null,
            "_model_module_version": "1.2.0",
            "_view_count": null,
            "flex_flow": null,
            "width": null,
            "min_width": null,
            "border": null,
            "align_items": null,
            "bottom": null,
            "_model_module": "@jupyter-widgets/base",
            "top": null,
            "grid_column": null,
            "overflow_y": null,
            "overflow_x": null,
            "grid_auto_flow": null,
            "grid_area": null,
            "grid_template_columns": null,
            "flex": null,
            "_model_name": "LayoutModel",
            "justify_items": null,
            "grid_row": null,
            "max_height": null,
            "align_content": null,
            "visibility": null,
            "align_self": null,
            "height": null,
            "min_height": null,
            "padding": null,
            "grid_auto_rows": null,
            "grid_gap": null,
            "max_width": null,
            "order": null,
            "_view_module_version": "1.2.0",
            "grid_template_areas": null,
            "object_position": null,
            "object_fit": null,
            "grid_auto_columns": null,
            "margin": null,
            "display": null,
            "left": null
          }
        },
        "428c446fa0f04aefb606dc13b8dd7930": {
          "model_module": "@jupyter-widgets/controls",
          "model_name": "HTMLModel",
          "state": {
            "_view_name": "HTMLView",
            "style": "IPY_MODEL_f8c87ef7e1a34ed5bc8df5092d53118d",
            "_dom_classes": [],
            "description": "",
            "_model_name": "HTMLModel",
            "placeholder": "​",
            "_view_module": "@jupyter-widgets/controls",
            "_model_module_version": "1.5.0",
            "value": "validation.tsv: 100%",
            "_view_count": null,
            "_view_module_version": "1.5.0",
            "description_tooltip": null,
            "_model_module": "@jupyter-widgets/controls",
            "layout": "IPY_MODEL_95a99deaea3949a59ace19cdbb0eaca1"
          }
        },
        "89903c23ff6d4dd780396fa80a6a131e": {
          "model_module": "@jupyter-widgets/controls",
          "model_name": "FloatProgressModel",
          "state": {
            "_view_name": "ProgressView",
            "style": "IPY_MODEL_3412896fd63247218f9197801cd98587",
            "_dom_classes": [],
            "description": "",
            "_model_name": "FloatProgressModel",
            "bar_style": "success",
            "max": 2166270,
            "_view_module": "@jupyter-widgets/controls",
            "_model_module_version": "1.5.0",
            "value": 2166270,
            "_view_count": null,
            "_view_module_version": "1.5.0",
            "orientation": "horizontal",
            "min": 0,
            "description_tooltip": null,
            "_model_module": "@jupyter-widgets/controls",
            "layout": "IPY_MODEL_e88892d998af4e079816cee259de23d4"
          }
        },
        "3a17e0ffe0ec4678ae91773a6386cd21": {
          "model_module": "@jupyter-widgets/controls",
          "model_name": "HTMLModel",
          "state": {
            "_view_name": "HTMLView",
            "style": "IPY_MODEL_520f093ecdc2466f8fcff77eace78e59",
            "_dom_classes": [],
            "description": "",
            "_model_name": "HTMLModel",
            "placeholder": "​",
            "_view_module": "@jupyter-widgets/controls",
            "_model_module_version": "1.5.0",
            "value": " 2.17M/2.17M [00:01&lt;00:00, 1.20MB/s]",
            "_view_count": null,
            "_view_module_version": "1.5.0",
            "description_tooltip": null,
            "_model_module": "@jupyter-widgets/controls",
            "layout": "IPY_MODEL_afd271babe8c45d1b8174f22d99604d6"
          }
        },
        "f8c87ef7e1a34ed5bc8df5092d53118d": {
          "model_module": "@jupyter-widgets/controls",
          "model_name": "DescriptionStyleModel",
          "state": {
            "_view_name": "StyleView",
            "_model_name": "DescriptionStyleModel",
            "description_width": "",
            "_view_module": "@jupyter-widgets/base",
            "_model_module_version": "1.5.0",
            "_view_count": null,
            "_view_module_version": "1.2.0",
            "_model_module": "@jupyter-widgets/controls"
          }
        },
        "95a99deaea3949a59ace19cdbb0eaca1": {
          "model_module": "@jupyter-widgets/base",
          "model_name": "LayoutModel",
          "state": {
            "_view_name": "LayoutView",
            "grid_template_rows": null,
            "right": null,
            "justify_content": null,
            "_view_module": "@jupyter-widgets/base",
            "overflow": null,
            "_model_module_version": "1.2.0",
            "_view_count": null,
            "flex_flow": null,
            "width": null,
            "min_width": null,
            "border": null,
            "align_items": null,
            "bottom": null,
            "_model_module": "@jupyter-widgets/base",
            "top": null,
            "grid_column": null,
            "overflow_y": null,
            "overflow_x": null,
            "grid_auto_flow": null,
            "grid_area": null,
            "grid_template_columns": null,
            "flex": null,
            "_model_name": "LayoutModel",
            "justify_items": null,
            "grid_row": null,
            "max_height": null,
            "align_content": null,
            "visibility": null,
            "align_self": null,
            "height": null,
            "min_height": null,
            "padding": null,
            "grid_auto_rows": null,
            "grid_gap": null,
            "max_width": null,
            "order": null,
            "_view_module_version": "1.2.0",
            "grid_template_areas": null,
            "object_position": null,
            "object_fit": null,
            "grid_auto_columns": null,
            "margin": null,
            "display": null,
            "left": null
          }
        },
        "3412896fd63247218f9197801cd98587": {
          "model_module": "@jupyter-widgets/controls",
          "model_name": "ProgressStyleModel",
          "state": {
            "_view_name": "StyleView",
            "_model_name": "ProgressStyleModel",
            "description_width": "",
            "_view_module": "@jupyter-widgets/base",
            "_model_module_version": "1.5.0",
            "_view_count": null,
            "_view_module_version": "1.2.0",
            "bar_color": null,
            "_model_module": "@jupyter-widgets/controls"
          }
        },
        "e88892d998af4e079816cee259de23d4": {
          "model_module": "@jupyter-widgets/base",
          "model_name": "LayoutModel",
          "state": {
            "_view_name": "LayoutView",
            "grid_template_rows": null,
            "right": null,
            "justify_content": null,
            "_view_module": "@jupyter-widgets/base",
            "overflow": null,
            "_model_module_version": "1.2.0",
            "_view_count": null,
            "flex_flow": null,
            "width": null,
            "min_width": null,
            "border": null,
            "align_items": null,
            "bottom": null,
            "_model_module": "@jupyter-widgets/base",
            "top": null,
            "grid_column": null,
            "overflow_y": null,
            "overflow_x": null,
            "grid_auto_flow": null,
            "grid_area": null,
            "grid_template_columns": null,
            "flex": null,
            "_model_name": "LayoutModel",
            "justify_items": null,
            "grid_row": null,
            "max_height": null,
            "align_content": null,
            "visibility": null,
            "align_self": null,
            "height": null,
            "min_height": null,
            "padding": null,
            "grid_auto_rows": null,
            "grid_gap": null,
            "max_width": null,
            "order": null,
            "_view_module_version": "1.2.0",
            "grid_template_areas": null,
            "object_position": null,
            "object_fit": null,
            "grid_auto_columns": null,
            "margin": null,
            "display": null,
            "left": null
          }
        },
        "520f093ecdc2466f8fcff77eace78e59": {
          "model_module": "@jupyter-widgets/controls",
          "model_name": "DescriptionStyleModel",
          "state": {
            "_view_name": "StyleView",
            "_model_name": "DescriptionStyleModel",
            "description_width": "",
            "_view_module": "@jupyter-widgets/base",
            "_model_module_version": "1.5.0",
            "_view_count": null,
            "_view_module_version": "1.2.0",
            "_model_module": "@jupyter-widgets/controls"
          }
        },
        "afd271babe8c45d1b8174f22d99604d6": {
          "model_module": "@jupyter-widgets/base",
          "model_name": "LayoutModel",
          "state": {
            "_view_name": "LayoutView",
            "grid_template_rows": null,
            "right": null,
            "justify_content": null,
            "_view_module": "@jupyter-widgets/base",
            "overflow": null,
            "_model_module_version": "1.2.0",
            "_view_count": null,
            "flex_flow": null,
            "width": null,
            "min_width": null,
            "border": null,
            "align_items": null,
            "bottom": null,
            "_model_module": "@jupyter-widgets/base",
            "top": null,
            "grid_column": null,
            "overflow_y": null,
            "overflow_x": null,
            "grid_auto_flow": null,
            "grid_area": null,
            "grid_template_columns": null,
            "flex": null,
            "_model_name": "LayoutModel",
            "justify_items": null,
            "grid_row": null,
            "max_height": null,
            "align_content": null,
            "visibility": null,
            "align_self": null,
            "height": null,
            "min_height": null,
            "padding": null,
            "grid_auto_rows": null,
            "grid_gap": null,
            "max_width": null,
            "order": null,
            "_view_module_version": "1.2.0",
            "grid_template_areas": null,
            "object_position": null,
            "object_fit": null,
            "grid_auto_columns": null,
            "margin": null,
            "display": null,
            "left": null
          }
        },
        "d0fa3e02c32a4a76a4c0d69606bb58ad": {
          "model_module": "@jupyter-widgets/controls",
          "model_name": "HBoxModel",
          "state": {
            "_view_name": "HBoxView",
            "_dom_classes": [],
            "_model_name": "HBoxModel",
            "_view_module": "@jupyter-widgets/controls",
            "_model_module_version": "1.5.0",
            "_view_count": null,
            "_view_module_version": "1.5.0",
            "box_style": "",
            "layout": "IPY_MODEL_b705ef33a18c49548ca2aedc8a2050f0",
            "_model_module": "@jupyter-widgets/controls",
            "children": [
              "IPY_MODEL_f2fb780c652c4f089995545c66585aa5",
              "IPY_MODEL_1f15dd0116564dd084685528b393511d",
              "IPY_MODEL_55fa3a8c6e13474b81c969f90c4ebb94"
            ]
          }
        },
        "b705ef33a18c49548ca2aedc8a2050f0": {
          "model_module": "@jupyter-widgets/base",
          "model_name": "LayoutModel",
          "state": {
            "_view_name": "LayoutView",
            "grid_template_rows": null,
            "right": null,
            "justify_content": null,
            "_view_module": "@jupyter-widgets/base",
            "overflow": null,
            "_model_module_version": "1.2.0",
            "_view_count": null,
            "flex_flow": null,
            "width": null,
            "min_width": null,
            "border": null,
            "align_items": null,
            "bottom": null,
            "_model_module": "@jupyter-widgets/base",
            "top": null,
            "grid_column": null,
            "overflow_y": null,
            "overflow_x": null,
            "grid_auto_flow": null,
            "grid_area": null,
            "grid_template_columns": null,
            "flex": null,
            "_model_name": "LayoutModel",
            "justify_items": null,
            "grid_row": null,
            "max_height": null,
            "align_content": null,
            "visibility": null,
            "align_self": null,
            "height": null,
            "min_height": null,
            "padding": null,
            "grid_auto_rows": null,
            "grid_gap": null,
            "max_width": null,
            "order": null,
            "_view_module_version": "1.2.0",
            "grid_template_areas": null,
            "object_position": null,
            "object_fit": null,
            "grid_auto_columns": null,
            "margin": null,
            "display": null,
            "left": null
          }
        },
        "f2fb780c652c4f089995545c66585aa5": {
          "model_module": "@jupyter-widgets/controls",
          "model_name": "HTMLModel",
          "state": {
            "_view_name": "HTMLView",
            "style": "IPY_MODEL_93603ed3e4f946e690d2873789db6916",
            "_dom_classes": [],
            "description": "",
            "_model_name": "HTMLModel",
            "placeholder": "​",
            "_view_module": "@jupyter-widgets/controls",
            "_model_module_version": "1.5.0",
            "value": "test.tsv: 100%",
            "_view_count": null,
            "_view_module_version": "1.5.0",
            "description_tooltip": null,
            "_model_module": "@jupyter-widgets/controls",
            "layout": "IPY_MODEL_37dd5dae2ea94727a184a1fdabafdc5f"
          }
        },
        "1f15dd0116564dd084685528b393511d": {
          "model_module": "@jupyter-widgets/controls",
          "model_name": "FloatProgressModel",
          "state": {
            "_view_name": "ProgressView",
            "style": "IPY_MODEL_4adafe456abb4ea092d35b8a891fd0c1",
            "_dom_classes": [],
            "description": "",
            "_model_name": "FloatProgressModel",
            "bar_style": "success",
            "max": 1041379,
            "_view_module": "@jupyter-widgets/controls",
            "_model_module_version": "1.5.0",
            "value": 1041379,
            "_view_count": null,
            "_view_module_version": "1.5.0",
            "orientation": "horizontal",
            "min": 0,
            "description_tooltip": null,
            "_model_module": "@jupyter-widgets/controls",
            "layout": "IPY_MODEL_7b886726fd054f63b25b2655c0f80bf3"
          }
        },
        "55fa3a8c6e13474b81c969f90c4ebb94": {
          "model_module": "@jupyter-widgets/controls",
          "model_name": "HTMLModel",
          "state": {
            "_view_name": "HTMLView",
            "style": "IPY_MODEL_808e21636d7247f7b1ef1cb809bcd038",
            "_dom_classes": [],
            "description": "",
            "_model_name": "HTMLModel",
            "placeholder": "​",
            "_view_module": "@jupyter-widgets/controls",
            "_model_module_version": "1.5.0",
            "value": " 1.04M/1.04M [00:01&lt;00:00, 819kB/s]",
            "_view_count": null,
            "_view_module_version": "1.5.0",
            "description_tooltip": null,
            "_model_module": "@jupyter-widgets/controls",
            "layout": "IPY_MODEL_eb669fcd1bc64c6cb096d86f2cc924c5"
          }
        },
        "93603ed3e4f946e690d2873789db6916": {
          "model_module": "@jupyter-widgets/controls",
          "model_name": "DescriptionStyleModel",
          "state": {
            "_view_name": "StyleView",
            "_model_name": "DescriptionStyleModel",
            "description_width": "",
            "_view_module": "@jupyter-widgets/base",
            "_model_module_version": "1.5.0",
            "_view_count": null,
            "_view_module_version": "1.2.0",
            "_model_module": "@jupyter-widgets/controls"
          }
        },
        "37dd5dae2ea94727a184a1fdabafdc5f": {
          "model_module": "@jupyter-widgets/base",
          "model_name": "LayoutModel",
          "state": {
            "_view_name": "LayoutView",
            "grid_template_rows": null,
            "right": null,
            "justify_content": null,
            "_view_module": "@jupyter-widgets/base",
            "overflow": null,
            "_model_module_version": "1.2.0",
            "_view_count": null,
            "flex_flow": null,
            "width": null,
            "min_width": null,
            "border": null,
            "align_items": null,
            "bottom": null,
            "_model_module": "@jupyter-widgets/base",
            "top": null,
            "grid_column": null,
            "overflow_y": null,
            "overflow_x": null,
            "grid_auto_flow": null,
            "grid_area": null,
            "grid_template_columns": null,
            "flex": null,
            "_model_name": "LayoutModel",
            "justify_items": null,
            "grid_row": null,
            "max_height": null,
            "align_content": null,
            "visibility": null,
            "align_self": null,
            "height": null,
            "min_height": null,
            "padding": null,
            "grid_auto_rows": null,
            "grid_gap": null,
            "max_width": null,
            "order": null,
            "_view_module_version": "1.2.0",
            "grid_template_areas": null,
            "object_position": null,
            "object_fit": null,
            "grid_auto_columns": null,
            "margin": null,
            "display": null,
            "left": null
          }
        },
        "4adafe456abb4ea092d35b8a891fd0c1": {
          "model_module": "@jupyter-widgets/controls",
          "model_name": "ProgressStyleModel",
          "state": {
            "_view_name": "StyleView",
            "_model_name": "ProgressStyleModel",
            "description_width": "",
            "_view_module": "@jupyter-widgets/base",
            "_model_module_version": "1.5.0",
            "_view_count": null,
            "_view_module_version": "1.2.0",
            "bar_color": null,
            "_model_module": "@jupyter-widgets/controls"
          }
        },
        "7b886726fd054f63b25b2655c0f80bf3": {
          "model_module": "@jupyter-widgets/base",
          "model_name": "LayoutModel",
          "state": {
            "_view_name": "LayoutView",
            "grid_template_rows": null,
            "right": null,
            "justify_content": null,
            "_view_module": "@jupyter-widgets/base",
            "overflow": null,
            "_model_module_version": "1.2.0",
            "_view_count": null,
            "flex_flow": null,
            "width": null,
            "min_width": null,
            "border": null,
            "align_items": null,
            "bottom": null,
            "_model_module": "@jupyter-widgets/base",
            "top": null,
            "grid_column": null,
            "overflow_y": null,
            "overflow_x": null,
            "grid_auto_flow": null,
            "grid_area": null,
            "grid_template_columns": null,
            "flex": null,
            "_model_name": "LayoutModel",
            "justify_items": null,
            "grid_row": null,
            "max_height": null,
            "align_content": null,
            "visibility": null,
            "align_self": null,
            "height": null,
            "min_height": null,
            "padding": null,
            "grid_auto_rows": null,
            "grid_gap": null,
            "max_width": null,
            "order": null,
            "_view_module_version": "1.2.0",
            "grid_template_areas": null,
            "object_position": null,
            "object_fit": null,
            "grid_auto_columns": null,
            "margin": null,
            "display": null,
            "left": null
          }
        },
        "808e21636d7247f7b1ef1cb809bcd038": {
          "model_module": "@jupyter-widgets/controls",
          "model_name": "DescriptionStyleModel",
          "state": {
            "_view_name": "StyleView",
            "_model_name": "DescriptionStyleModel",
            "description_width": "",
            "_view_module": "@jupyter-widgets/base",
            "_model_module_version": "1.5.0",
            "_view_count": null,
            "_view_module_version": "1.2.0",
            "_model_module": "@jupyter-widgets/controls"
          }
        },
        "eb669fcd1bc64c6cb096d86f2cc924c5": {
          "model_module": "@jupyter-widgets/base",
          "model_name": "LayoutModel",
          "state": {
            "_view_name": "LayoutView",
            "grid_template_rows": null,
            "right": null,
            "justify_content": null,
            "_view_module": "@jupyter-widgets/base",
            "overflow": null,
            "_model_module_version": "1.2.0",
            "_view_count": null,
            "flex_flow": null,
            "width": null,
            "min_width": null,
            "border": null,
            "align_items": null,
            "bottom": null,
            "_model_module": "@jupyter-widgets/base",
            "top": null,
            "grid_column": null,
            "overflow_y": null,
            "overflow_x": null,
            "grid_auto_flow": null,
            "grid_area": null,
            "grid_template_columns": null,
            "flex": null,
            "_model_name": "LayoutModel",
            "justify_items": null,
            "grid_row": null,
            "max_height": null,
            "align_content": null,
            "visibility": null,
            "align_self": null,
            "height": null,
            "min_height": null,
            "padding": null,
            "grid_auto_rows": null,
            "grid_gap": null,
            "max_width": null,
            "order": null,
            "_view_module_version": "1.2.0",
            "grid_template_areas": null,
            "object_position": null,
            "object_fit": null,
            "grid_auto_columns": null,
            "margin": null,
            "display": null,
            "left": null
          }
        },
        "28123f7a628f475f8f25e97e3d8889fb": {
          "model_module": "@jupyter-widgets/controls",
          "model_name": "HBoxModel",
          "state": {
            "_view_name": "HBoxView",
            "_dom_classes": [],
            "_model_name": "HBoxModel",
            "_view_module": "@jupyter-widgets/controls",
            "_model_module_version": "1.5.0",
            "_view_count": null,
            "_view_module_version": "1.5.0",
            "box_style": "",
            "layout": "IPY_MODEL_c8ecced3faa745868045537f7158f4a6",
            "_model_module": "@jupyter-widgets/controls",
            "children": [
              "IPY_MODEL_dba682957a74436d80dca15a5ce33394",
              "IPY_MODEL_a2ebfc0604c74469b2290daec6696bcb",
              "IPY_MODEL_3fa3804cdcad4ae380dcc14032681c97"
            ]
          }
        },
        "c8ecced3faa745868045537f7158f4a6": {
          "model_module": "@jupyter-widgets/base",
          "model_name": "LayoutModel",
          "state": {
            "_view_name": "LayoutView",
            "grid_template_rows": null,
            "right": null,
            "justify_content": null,
            "_view_module": "@jupyter-widgets/base",
            "overflow": null,
            "_model_module_version": "1.2.0",
            "_view_count": null,
            "flex_flow": null,
            "width": null,
            "min_width": null,
            "border": null,
            "align_items": null,
            "bottom": null,
            "_model_module": "@jupyter-widgets/base",
            "top": null,
            "grid_column": null,
            "overflow_y": null,
            "overflow_x": null,
            "grid_auto_flow": null,
            "grid_area": null,
            "grid_template_columns": null,
            "flex": null,
            "_model_name": "LayoutModel",
            "justify_items": null,
            "grid_row": null,
            "max_height": null,
            "align_content": null,
            "visibility": null,
            "align_self": null,
            "height": null,
            "min_height": null,
            "padding": null,
            "grid_auto_rows": null,
            "grid_gap": null,
            "max_width": null,
            "order": null,
            "_view_module_version": "1.2.0",
            "grid_template_areas": null,
            "object_position": null,
            "object_fit": null,
            "grid_auto_columns": null,
            "margin": null,
            "display": null,
            "left": null
          }
        },
        "dba682957a74436d80dca15a5ce33394": {
          "model_module": "@jupyter-widgets/controls",
          "model_name": "HTMLModel",
          "state": {
            "_view_name": "HTMLView",
            "style": "IPY_MODEL_0106cd149055447b876309d3f06c9862",
            "_dom_classes": [],
            "description": "",
            "_model_name": "HTMLModel",
            "placeholder": "​",
            "_view_module": "@jupyter-widgets/controls",
            "_model_module_version": "1.5.0",
            "value": "text_prepare_tests.tsv: 100%",
            "_view_count": null,
            "_view_module_version": "1.5.0",
            "description_tooltip": null,
            "_model_module": "@jupyter-widgets/controls",
            "layout": "IPY_MODEL_20f74365d23346c1ab5f0fe8a080b056"
          }
        },
        "a2ebfc0604c74469b2290daec6696bcb": {
          "model_module": "@jupyter-widgets/controls",
          "model_name": "FloatProgressModel",
          "state": {
            "_view_name": "ProgressView",
            "style": "IPY_MODEL_9d1ad850332e415f9da78905e2f52c42",
            "_dom_classes": [],
            "description": "",
            "_model_name": "FloatProgressModel",
            "bar_style": "success",
            "max": 5091,
            "_view_module": "@jupyter-widgets/controls",
            "_model_module_version": "1.5.0",
            "value": 5091,
            "_view_count": null,
            "_view_module_version": "1.5.0",
            "orientation": "horizontal",
            "min": 0,
            "description_tooltip": null,
            "_model_module": "@jupyter-widgets/controls",
            "layout": "IPY_MODEL_d32e98188b7f44cc8640fda9c54bb563"
          }
        },
        "3fa3804cdcad4ae380dcc14032681c97": {
          "model_module": "@jupyter-widgets/controls",
          "model_name": "HTMLModel",
          "state": {
            "_view_name": "HTMLView",
            "style": "IPY_MODEL_7ee626b829834761af76ea8b0ba7fd2c",
            "_dom_classes": [],
            "description": "",
            "_model_name": "HTMLModel",
            "placeholder": "​",
            "_view_module": "@jupyter-widgets/controls",
            "_model_module_version": "1.5.0",
            "value": " 5.09k/5.09k [00:00&lt;00:00, 79.7kB/s]",
            "_view_count": null,
            "_view_module_version": "1.5.0",
            "description_tooltip": null,
            "_model_module": "@jupyter-widgets/controls",
            "layout": "IPY_MODEL_1b87ef0c5e524e3da207bf2516b3ff7a"
          }
        },
        "0106cd149055447b876309d3f06c9862": {
          "model_module": "@jupyter-widgets/controls",
          "model_name": "DescriptionStyleModel",
          "state": {
            "_view_name": "StyleView",
            "_model_name": "DescriptionStyleModel",
            "description_width": "",
            "_view_module": "@jupyter-widgets/base",
            "_model_module_version": "1.5.0",
            "_view_count": null,
            "_view_module_version": "1.2.0",
            "_model_module": "@jupyter-widgets/controls"
          }
        },
        "20f74365d23346c1ab5f0fe8a080b056": {
          "model_module": "@jupyter-widgets/base",
          "model_name": "LayoutModel",
          "state": {
            "_view_name": "LayoutView",
            "grid_template_rows": null,
            "right": null,
            "justify_content": null,
            "_view_module": "@jupyter-widgets/base",
            "overflow": null,
            "_model_module_version": "1.2.0",
            "_view_count": null,
            "flex_flow": null,
            "width": null,
            "min_width": null,
            "border": null,
            "align_items": null,
            "bottom": null,
            "_model_module": "@jupyter-widgets/base",
            "top": null,
            "grid_column": null,
            "overflow_y": null,
            "overflow_x": null,
            "grid_auto_flow": null,
            "grid_area": null,
            "grid_template_columns": null,
            "flex": null,
            "_model_name": "LayoutModel",
            "justify_items": null,
            "grid_row": null,
            "max_height": null,
            "align_content": null,
            "visibility": null,
            "align_self": null,
            "height": null,
            "min_height": null,
            "padding": null,
            "grid_auto_rows": null,
            "grid_gap": null,
            "max_width": null,
            "order": null,
            "_view_module_version": "1.2.0",
            "grid_template_areas": null,
            "object_position": null,
            "object_fit": null,
            "grid_auto_columns": null,
            "margin": null,
            "display": null,
            "left": null
          }
        },
        "9d1ad850332e415f9da78905e2f52c42": {
          "model_module": "@jupyter-widgets/controls",
          "model_name": "ProgressStyleModel",
          "state": {
            "_view_name": "StyleView",
            "_model_name": "ProgressStyleModel",
            "description_width": "",
            "_view_module": "@jupyter-widgets/base",
            "_model_module_version": "1.5.0",
            "_view_count": null,
            "_view_module_version": "1.2.0",
            "bar_color": null,
            "_model_module": "@jupyter-widgets/controls"
          }
        },
        "d32e98188b7f44cc8640fda9c54bb563": {
          "model_module": "@jupyter-widgets/base",
          "model_name": "LayoutModel",
          "state": {
            "_view_name": "LayoutView",
            "grid_template_rows": null,
            "right": null,
            "justify_content": null,
            "_view_module": "@jupyter-widgets/base",
            "overflow": null,
            "_model_module_version": "1.2.0",
            "_view_count": null,
            "flex_flow": null,
            "width": null,
            "min_width": null,
            "border": null,
            "align_items": null,
            "bottom": null,
            "_model_module": "@jupyter-widgets/base",
            "top": null,
            "grid_column": null,
            "overflow_y": null,
            "overflow_x": null,
            "grid_auto_flow": null,
            "grid_area": null,
            "grid_template_columns": null,
            "flex": null,
            "_model_name": "LayoutModel",
            "justify_items": null,
            "grid_row": null,
            "max_height": null,
            "align_content": null,
            "visibility": null,
            "align_self": null,
            "height": null,
            "min_height": null,
            "padding": null,
            "grid_auto_rows": null,
            "grid_gap": null,
            "max_width": null,
            "order": null,
            "_view_module_version": "1.2.0",
            "grid_template_areas": null,
            "object_position": null,
            "object_fit": null,
            "grid_auto_columns": null,
            "margin": null,
            "display": null,
            "left": null
          }
        },
        "7ee626b829834761af76ea8b0ba7fd2c": {
          "model_module": "@jupyter-widgets/controls",
          "model_name": "DescriptionStyleModel",
          "state": {
            "_view_name": "StyleView",
            "_model_name": "DescriptionStyleModel",
            "description_width": "",
            "_view_module": "@jupyter-widgets/base",
            "_model_module_version": "1.5.0",
            "_view_count": null,
            "_view_module_version": "1.2.0",
            "_model_module": "@jupyter-widgets/controls"
          }
        },
        "1b87ef0c5e524e3da207bf2516b3ff7a": {
          "model_module": "@jupyter-widgets/base",
          "model_name": "LayoutModel",
          "state": {
            "_view_name": "LayoutView",
            "grid_template_rows": null,
            "right": null,
            "justify_content": null,
            "_view_module": "@jupyter-widgets/base",
            "overflow": null,
            "_model_module_version": "1.2.0",
            "_view_count": null,
            "flex_flow": null,
            "width": null,
            "min_width": null,
            "border": null,
            "align_items": null,
            "bottom": null,
            "_model_module": "@jupyter-widgets/base",
            "top": null,
            "grid_column": null,
            "overflow_y": null,
            "overflow_x": null,
            "grid_auto_flow": null,
            "grid_area": null,
            "grid_template_columns": null,
            "flex": null,
            "_model_name": "LayoutModel",
            "justify_items": null,
            "grid_row": null,
            "max_height": null,
            "align_content": null,
            "visibility": null,
            "align_self": null,
            "height": null,
            "min_height": null,
            "padding": null,
            "grid_auto_rows": null,
            "grid_gap": null,
            "max_width": null,
            "order": null,
            "_view_module_version": "1.2.0",
            "grid_template_areas": null,
            "object_position": null,
            "object_fit": null,
            "grid_auto_columns": null,
            "margin": null,
            "display": null,
            "left": null
          }
        }
      }
    }
  },
  "cells": [
    {
      "cell_type": "markdown",
      "metadata": {
        "id": "7ugu1DXoaAog"
      },
      "source": [
        "# Predict tags on StackOverflow with linear models"
      ]
    },
    {
      "cell_type": "markdown",
      "metadata": {
        "id": "KCVgKYN4aAoh"
      },
      "source": [
        "In this assignment you will learn how to predict tags for posts from [StackOverflow](https://stackoverflow.com). To solve this task you will use multilabel classification approach.\n",
        "\n",
        "### Libraries\n",
        "\n",
        "In this task you will need the following libraries:\n",
        "- [Numpy](http://www.numpy.org) — a package for scientific computing.\n",
        "- [Pandas](https://pandas.pydata.org) — a library providing high-performance, easy-to-use data structures and data analysis tools for the Python\n",
        "- [scikit-learn](http://scikit-learn.org/stable/index.html) — a tool for data mining and data analysis.\n",
        "- [NLTK](http://www.nltk.org) — a platform to work with natural language."
      ]
    },
    {
      "cell_type": "markdown",
      "metadata": {
        "id": "DyBO8yMYaAoh"
      },
      "source": [
        "### Data\n",
        "\n",
        "The following cell will download all data required for this assignment into the folder `week1/data`."
      ]
    },
    {
      "cell_type": "code",
      "metadata": {
        "id": "ZcMltFfgaAoi",
        "outputId": "2cf8d948-65a4-4339-c5e2-577817aed6fb",
        "colab": {
          "base_uri": "https://localhost:8080/",
          "height": 400,
          "referenced_widgets": [
            "01b0db04de454c0889ddc0ebff28c811",
            "6fa08a8bffdd4514a10fb041c4ba3e74",
            "9b7039e5407441009e48a9b2f9995d0b",
            "2f517b8e3f7b46d6ab7e70e61039ca4f",
            "cd783bd5fc834d5dbfc81cb7db7c5444",
            "6d80a34c2cd447ef940944bc3ab300aa",
            "375131c7974c469b9d432c1a94b482ce",
            "f54558556e204d719d6a218b06e10f31",
            "5cfbcdf0a5fc4138808e83637cd6068f",
            "abf29e6fe28045c2b8244ff93232e5ee",
            "47c735d8def94ef48ad39de3e1b06b77",
            "95536657f93246058b5bd155aaaaa332",
            "6e4abf38d9584c91a1e80c3524e03db9",
            "428c446fa0f04aefb606dc13b8dd7930",
            "89903c23ff6d4dd780396fa80a6a131e",
            "3a17e0ffe0ec4678ae91773a6386cd21",
            "f8c87ef7e1a34ed5bc8df5092d53118d",
            "95a99deaea3949a59ace19cdbb0eaca1",
            "3412896fd63247218f9197801cd98587",
            "e88892d998af4e079816cee259de23d4",
            "520f093ecdc2466f8fcff77eace78e59",
            "afd271babe8c45d1b8174f22d99604d6",
            "d0fa3e02c32a4a76a4c0d69606bb58ad",
            "b705ef33a18c49548ca2aedc8a2050f0",
            "f2fb780c652c4f089995545c66585aa5",
            "1f15dd0116564dd084685528b393511d",
            "55fa3a8c6e13474b81c969f90c4ebb94",
            "93603ed3e4f946e690d2873789db6916",
            "37dd5dae2ea94727a184a1fdabafdc5f",
            "4adafe456abb4ea092d35b8a891fd0c1",
            "7b886726fd054f63b25b2655c0f80bf3",
            "808e21636d7247f7b1ef1cb809bcd038",
            "eb669fcd1bc64c6cb096d86f2cc924c5",
            "28123f7a628f475f8f25e97e3d8889fb",
            "c8ecced3faa745868045537f7158f4a6",
            "dba682957a74436d80dca15a5ce33394",
            "a2ebfc0604c74469b2290daec6696bcb",
            "3fa3804cdcad4ae380dcc14032681c97",
            "0106cd149055447b876309d3f06c9862",
            "20f74365d23346c1ab5f0fe8a080b056",
            "9d1ad850332e415f9da78905e2f52c42",
            "d32e98188b7f44cc8640fda9c54bb563",
            "7ee626b829834761af76ea8b0ba7fd2c",
            "1b87ef0c5e524e3da207bf2516b3ff7a"
          ]
        }
      },
      "source": [
        "try:\n",
        "    import google.colab\n",
        "    IN_COLAB = True\n",
        "except:\n",
        "    IN_COLAB = False\n",
        "\n",
        "if IN_COLAB:\n",
        "    ! wget https://raw.githubusercontent.com/hse-aml/natural-language-processing/master/setup_google_colab.py -O setup_google_colab.py\n",
        "    import setup_google_colab\n",
        "    setup_google_colab.setup_week1() \n",
        "    \n",
        "import sys\n",
        "sys.path.append(\"..\")\n",
        "from common.download_utils import download_week1_resources\n",
        "\n",
        "download_week1_resources()"
      ],
      "execution_count": 3,
      "outputs": [
        {
          "output_type": "stream",
          "text": [
            "--2020-10-06 18:13:09--  https://raw.githubusercontent.com/hse-aml/natural-language-processing/master/setup_google_colab.py\n",
            "Resolving raw.githubusercontent.com (raw.githubusercontent.com)... 151.101.0.133, 151.101.64.133, 151.101.128.133, ...\n",
            "Connecting to raw.githubusercontent.com (raw.githubusercontent.com)|151.101.0.133|:443... connected.\n",
            "HTTP request sent, awaiting response... 200 OK\n",
            "Length: 1939 (1.9K) [text/plain]\n",
            "Saving to: ‘setup_google_colab.py’\n",
            "\n",
            "setup_google_colab. 100%[===================>]   1.89K  --.-KB/s    in 0s      \n",
            "\n",
            "2020-10-06 18:13:09 (36.0 MB/s) - ‘setup_google_colab.py’ saved [1939/1939]\n",
            "\n"
          ],
          "name": "stdout"
        },
        {
          "output_type": "display_data",
          "data": {
            "application/vnd.jupyter.widget-view+json": {
              "model_id": "01b0db04de454c0889ddc0ebff28c811",
              "version_minor": 0,
              "version_major": 2
            },
            "text/plain": [
              "HBox(children=(HTML(value=''), FloatProgress(value=0.0, max=7196138.0), HTML(value='')))"
            ]
          },
          "metadata": {
            "tags": []
          }
        },
        {
          "output_type": "stream",
          "text": [
            "\n"
          ],
          "name": "stdout"
        },
        {
          "output_type": "display_data",
          "data": {
            "application/vnd.jupyter.widget-view+json": {
              "model_id": "95536657f93246058b5bd155aaaaa332",
              "version_minor": 0,
              "version_major": 2
            },
            "text/plain": [
              "HBox(children=(HTML(value=''), FloatProgress(value=0.0, max=2166270.0), HTML(value='')))"
            ]
          },
          "metadata": {
            "tags": []
          }
        },
        {
          "output_type": "stream",
          "text": [
            "\n"
          ],
          "name": "stdout"
        },
        {
          "output_type": "display_data",
          "data": {
            "application/vnd.jupyter.widget-view+json": {
              "model_id": "d0fa3e02c32a4a76a4c0d69606bb58ad",
              "version_minor": 0,
              "version_major": 2
            },
            "text/plain": [
              "HBox(children=(HTML(value=''), FloatProgress(value=0.0, max=1041379.0), HTML(value='')))"
            ]
          },
          "metadata": {
            "tags": []
          }
        },
        {
          "output_type": "stream",
          "text": [
            "\n"
          ],
          "name": "stdout"
        },
        {
          "output_type": "display_data",
          "data": {
            "application/vnd.jupyter.widget-view+json": {
              "model_id": "28123f7a628f475f8f25e97e3d8889fb",
              "version_minor": 0,
              "version_major": 2
            },
            "text/plain": [
              "HBox(children=(HTML(value=''), FloatProgress(value=0.0, max=5091.0), HTML(value='')))"
            ]
          },
          "metadata": {
            "tags": []
          }
        },
        {
          "output_type": "stream",
          "text": [
            "\n"
          ],
          "name": "stdout"
        }
      ]
    },
    {
      "cell_type": "markdown",
      "metadata": {
        "id": "bjYz7FJwaAol"
      },
      "source": [
        "### Grading\n",
        "We will create a grader instance below and use it to collect your answers. Note that these outputs will be stored locally inside grader and will be uploaded to platform only after running submitting function in the last part of this assignment. If you want to make partial submission, you can run that cell any time you want."
      ]
    },
    {
      "cell_type": "code",
      "metadata": {
        "id": "RM6CuX03aAom"
      },
      "source": [
        "from grader import Grader"
      ],
      "execution_count": 4,
      "outputs": []
    },
    {
      "cell_type": "code",
      "metadata": {
        "id": "MA84aoGTaAoo"
      },
      "source": [
        "grader = Grader()"
      ],
      "execution_count": 5,
      "outputs": []
    },
    {
      "cell_type": "markdown",
      "metadata": {
        "id": "3NjKllhsaAor"
      },
      "source": [
        "### Text preprocessing"
      ]
    },
    {
      "cell_type": "markdown",
      "metadata": {
        "id": "DRzlHOsJaAor"
      },
      "source": [
        "For this and most of the following assignments you will need to use a list of stop words. It can be downloaded from *nltk*:"
      ]
    },
    {
      "cell_type": "code",
      "metadata": {
        "id": "YgzeUT4YaAos",
        "outputId": "6bfff448-c6af-482c-8baf-12bb15dd941b",
        "colab": {
          "base_uri": "https://localhost:8080/",
          "height": 51
        }
      },
      "source": [
        "import nltk\n",
        "nltk.download('stopwords')\n",
        "from nltk.corpus import stopwords"
      ],
      "execution_count": 6,
      "outputs": [
        {
          "output_type": "stream",
          "text": [
            "[nltk_data] Downloading package stopwords to /root/nltk_data...\n",
            "[nltk_data]   Unzipping corpora/stopwords.zip.\n"
          ],
          "name": "stderr"
        }
      ]
    },
    {
      "cell_type": "markdown",
      "metadata": {
        "id": "_uiouW-CaAou"
      },
      "source": [
        "In this task you will deal with a dataset of post titles from StackOverflow. You are provided a split to 3 sets: *train*, *validation* and *test*. All corpora (except for *test*) contain titles of the posts and corresponding tags (100 tags are available). The *test* set is provided for Coursera's grading and doesn't contain answers. Upload the corpora using *pandas* and look at the data:"
      ]
    },
    {
      "cell_type": "code",
      "metadata": {
        "id": "cjWCDFSiaAou"
      },
      "source": [
        "from ast import literal_eval\n",
        "import pandas as pd\n",
        "import numpy as np"
      ],
      "execution_count": 7,
      "outputs": []
    },
    {
      "cell_type": "code",
      "metadata": {
        "id": "lFDlnVsDaAow"
      },
      "source": [
        "def read_data(filename):\n",
        "    data = pd.read_csv(filename, sep='\\t')\n",
        "    data['tags'] = data['tags'].apply(literal_eval)\n",
        "    return data"
      ],
      "execution_count": 8,
      "outputs": []
    },
    {
      "cell_type": "code",
      "metadata": {
        "id": "Ym7xq3IdaAoz"
      },
      "source": [
        "train = read_data('data/train.tsv')\n",
        "validation = read_data('data/validation.tsv')\n",
        "test = pd.read_csv('data/test.tsv', sep='\\t')"
      ],
      "execution_count": 9,
      "outputs": []
    },
    {
      "cell_type": "code",
      "metadata": {
        "id": "Buy4QC3EaAo1",
        "outputId": "9220736c-5be3-4fa3-cabc-2238a3dca059",
        "colab": {
          "base_uri": "https://localhost:8080/",
          "height": 204
        }
      },
      "source": [
        "train.head()"
      ],
      "execution_count": 10,
      "outputs": [
        {
          "output_type": "execute_result",
          "data": {
            "text/html": [
              "<div>\n",
              "<style scoped>\n",
              "    .dataframe tbody tr th:only-of-type {\n",
              "        vertical-align: middle;\n",
              "    }\n",
              "\n",
              "    .dataframe tbody tr th {\n",
              "        vertical-align: top;\n",
              "    }\n",
              "\n",
              "    .dataframe thead th {\n",
              "        text-align: right;\n",
              "    }\n",
              "</style>\n",
              "<table border=\"1\" class=\"dataframe\">\n",
              "  <thead>\n",
              "    <tr style=\"text-align: right;\">\n",
              "      <th></th>\n",
              "      <th>title</th>\n",
              "      <th>tags</th>\n",
              "    </tr>\n",
              "  </thead>\n",
              "  <tbody>\n",
              "    <tr>\n",
              "      <th>0</th>\n",
              "      <td>How to draw a stacked dotplot in R?</td>\n",
              "      <td>[r]</td>\n",
              "    </tr>\n",
              "    <tr>\n",
              "      <th>1</th>\n",
              "      <td>mysql select all records where a datetime fiel...</td>\n",
              "      <td>[php, mysql]</td>\n",
              "    </tr>\n",
              "    <tr>\n",
              "      <th>2</th>\n",
              "      <td>How to terminate windows phone 8.1 app</td>\n",
              "      <td>[c#]</td>\n",
              "    </tr>\n",
              "    <tr>\n",
              "      <th>3</th>\n",
              "      <td>get current time in a specific country via jquery</td>\n",
              "      <td>[javascript, jquery]</td>\n",
              "    </tr>\n",
              "    <tr>\n",
              "      <th>4</th>\n",
              "      <td>Configuring Tomcat to Use SSL</td>\n",
              "      <td>[java]</td>\n",
              "    </tr>\n",
              "  </tbody>\n",
              "</table>\n",
              "</div>"
            ],
            "text/plain": [
              "                                               title                  tags\n",
              "0                How to draw a stacked dotplot in R?                   [r]\n",
              "1  mysql select all records where a datetime fiel...          [php, mysql]\n",
              "2             How to terminate windows phone 8.1 app                  [c#]\n",
              "3  get current time in a specific country via jquery  [javascript, jquery]\n",
              "4                      Configuring Tomcat to Use SSL                [java]"
            ]
          },
          "metadata": {
            "tags": []
          },
          "execution_count": 10
        }
      ]
    },
    {
      "cell_type": "markdown",
      "metadata": {
        "id": "VEKvCHaoaAo3"
      },
      "source": [
        "As you can see, *title* column contains titles of the posts and *tags* column contains the tags. It could be noticed that a number of tags for a post is not fixed and could be as many as necessary."
      ]
    },
    {
      "cell_type": "markdown",
      "metadata": {
        "id": "Rq0HiMBtaAo4"
      },
      "source": [
        "For a more comfortable usage, initialize *X_train*, *X_val*, *X_test*, *y_train*, *y_val*."
      ]
    },
    {
      "cell_type": "code",
      "metadata": {
        "id": "pP133LTMaAo4"
      },
      "source": [
        "X_train, y_train = train['title'].values, train['tags'].values\n",
        "X_val, y_val = validation['title'].values, validation['tags'].values\n",
        "X_test = test['title'].values"
      ],
      "execution_count": 73,
      "outputs": []
    },
    {
      "cell_type": "markdown",
      "metadata": {
        "id": "lolP9y8baAo6"
      },
      "source": [
        "One of the most known difficulties when working with natural data is that it's unstructured. For example, if you use it \"as is\" and extract tokens just by splitting the titles by whitespaces, you will see that there are many \"weird\" tokens like *3.5?*, *\"Flip*, etc. To prevent the problems, it's usually useful to prepare the data somehow. In this task you'll write a function, which will be also used in the other assignments. \n",
        "\n",
        "**Task 1 (TextPrepare).** Implement the function *text_prepare* following the instructions. After that, run the function *test_text_prepare* to test it on tiny cases and submit it to Coursera."
      ]
    },
    {
      "cell_type": "code",
      "metadata": {
        "id": "R5crAwTKaAo6"
      },
      "source": [
        "import re"
      ],
      "execution_count": 12,
      "outputs": []
    },
    {
      "cell_type": "code",
      "metadata": {
        "id": "bFG9bDdxaAo8"
      },
      "source": [
        "REPLACE_BY_SPACE_RE = re.compile('[/(){}\\[\\]\\|@,;]')\n",
        "BAD_SYMBOLS_RE = re.compile('[^0-9a-z #+_]')\n",
        "STOPWORDS = set(stopwords.words('english'))\n",
        "\n",
        "def text_prepare(text):\n",
        "    \"\"\"\n",
        "        text: a string\n",
        "        \n",
        "        return: modified initial string\n",
        "    \"\"\"\n",
        "    text = text.lower()\n",
        "    text = re.sub(REPLACE_BY_SPACE_RE, ' ', text)  # replace REPLACE_BY_SPACE_RE symbols by space in text\n",
        "    text = re.sub(BAD_SYMBOLS_RE, '', text)  # delete symbols which are in BAD_SYMBOLS_RE from text\n",
        "    for i in STOPWORDS:\n",
        "      text = re.sub(re.compile('\\\\b' + i + '\\\\b'), '', text)\n",
        "    text = re.sub(r\"\\s{2,}\", ' ', text).strip()\n",
        "    return text"
      ],
      "execution_count": 13,
      "outputs": []
    },
    {
      "cell_type": "code",
      "metadata": {
        "id": "tIgUHGGTaAo-"
      },
      "source": [
        "def test_text_prepare():\n",
        "    examples = [\"SQL Server - any equivalent of Excel's CHOOSE function?\",\n",
        "                \"How to free c++ memory vector<int> * arr?\"]\n",
        "    answers = [\"sql server equivalent excels choose function\", \n",
        "               \"free c++ memory vectorint arr\"]\n",
        "    for ex, ans in zip(examples, answers):\n",
        "        if text_prepare(ex) != ans:\n",
        "            return \"Wrong answer for the case: '%s'\" % ex\n",
        "    return 'Basic tests are passed.'"
      ],
      "execution_count": 14,
      "outputs": []
    },
    {
      "cell_type": "code",
      "metadata": {
        "id": "1dl89rj-aApA",
        "outputId": "5e64c9d7-002f-4ed4-9520-0ee0dc6c1d6e",
        "colab": {
          "base_uri": "https://localhost:8080/",
          "height": 34
        }
      },
      "source": [
        "print(test_text_prepare())"
      ],
      "execution_count": 15,
      "outputs": [
        {
          "output_type": "stream",
          "text": [
            "Basic tests are passed.\n"
          ],
          "name": "stdout"
        }
      ]
    },
    {
      "cell_type": "markdown",
      "metadata": {
        "id": "8zWXK67DaApD"
      },
      "source": [
        "Run your implementation for questions from file *text_prepare_tests.tsv* to earn the points."
      ]
    },
    {
      "cell_type": "code",
      "metadata": {
        "id": "REfdhyu4aApD",
        "outputId": "02939d13-eae9-4d8d-d8f1-03fc03d92c62",
        "colab": {
          "base_uri": "https://localhost:8080/",
          "height": 102
        }
      },
      "source": [
        "prepared_questions = []\n",
        "for line in open('data/text_prepare_tests.tsv', encoding='utf-8'):\n",
        "    line = text_prepare(line.strip())\n",
        "    prepared_questions.append(line)\n",
        "text_prepare_results = '\\n'.join(prepared_questions)\n",
        "\n",
        "grader.submit_tag('TextPrepare', text_prepare_results)"
      ],
      "execution_count": 16,
      "outputs": [
        {
          "output_type": "stream",
          "text": [
            "Current answer for task TextPrepare is:\n",
            " sqlite php readonly\n",
            "creating multiple textboxes dynamically\n",
            "self one prefer javascript\n",
            "save php date...\n"
          ],
          "name": "stdout"
        }
      ]
    },
    {
      "cell_type": "markdown",
      "metadata": {
        "id": "x6kLBZFFaApF"
      },
      "source": [
        "Now we can preprocess the titles using function *text_prepare* and  making sure that the headers don't have bad symbols:"
      ]
    },
    {
      "cell_type": "code",
      "metadata": {
        "id": "GEa2vEI9aApF"
      },
      "source": [
        "X_train = [text_prepare(x) for x in X_train]\n",
        "X_val = [text_prepare(x) for x in X_val]\n",
        "X_test = [text_prepare(x) for x in X_test]"
      ],
      "execution_count": 17,
      "outputs": []
    },
    {
      "cell_type": "code",
      "metadata": {
        "id": "6Zsmcf4xaApH",
        "outputId": "d9300b82-0ddd-4606-9749-1724e8733ccd",
        "colab": {
          "base_uri": "https://localhost:8080/",
          "height": 68
        }
      },
      "source": [
        "X_train[:3]"
      ],
      "execution_count": 18,
      "outputs": [
        {
          "output_type": "execute_result",
          "data": {
            "text/plain": [
              "['draw stacked dotplot r',\n",
              " 'mysql select records datetime field less specified value',\n",
              " 'terminate windows phone 81 app']"
            ]
          },
          "metadata": {
            "tags": []
          },
          "execution_count": 18
        }
      ]
    },
    {
      "cell_type": "markdown",
      "metadata": {
        "id": "2NCTjvqFaApJ"
      },
      "source": [
        "For each tag and for each word calculate how many times they occur in the train corpus. \n",
        "\n",
        "**Task 2 (WordsTagsCount).** Find 3 most popular tags and 3 most popular words in the train data and submit the results to earn the points."
      ]
    },
    {
      "cell_type": "code",
      "metadata": {
        "id": "zYmbM8jkaApK"
      },
      "source": [
        "# Dictionary of all tags from train corpus with their counts.\n",
        "tags_counts = {}\n",
        "# Dictionary of all words from train corpus with their counts.\n",
        "words_counts = {}\n",
        "\n",
        "######################################\n",
        "######### YOUR CODE HERE #############\n",
        "######################################\n",
        "for i in y_train:\n",
        "    for j in i:\n",
        "        if j not in tags_counts:\n",
        "            tags_counts[j] = 1\n",
        "        else:\n",
        "            tags_counts[j] += 1\n",
        "for i in X_train:\n",
        "    for j in i.split():\n",
        "        if j not in words_counts:\n",
        "            words_counts[j] = 1\n",
        "        else:\n",
        "            words_counts[j] += 1"
      ],
      "execution_count": 19,
      "outputs": []
    },
    {
      "cell_type": "markdown",
      "metadata": {
        "id": "y7jLS1sQaApM"
      },
      "source": [
        "We are assuming that *tags_counts* and *words_counts* are dictionaries like `{'some_word_or_tag': frequency}`. After applying the sorting procedure, results will be look like this: `[('most_popular_word_or_tag', frequency), ('less_popular_word_or_tag', frequency), ...]`. The grader gets the results in the following format (two comma-separated strings with line break):\n",
        "\n",
        "    tag1,tag2,tag3\n",
        "    word1,word2,word3\n",
        "\n",
        "Pay attention that in this assignment you should not submit frequencies or some additional information."
      ]
    },
    {
      "cell_type": "code",
      "metadata": {
        "id": "vAu3BMP7aApM",
        "outputId": "97119a72-c262-4d68-a9fe-3fe4eb2b6c3d",
        "colab": {
          "base_uri": "https://localhost:8080/",
          "height": 68
        }
      },
      "source": [
        "most_common_tags = sorted(tags_counts.items(), key=lambda x: x[1], reverse=True)[:3]\n",
        "most_common_words = sorted(words_counts.items(), key=lambda x: x[1], reverse=True)[:3]\n",
        "\n",
        "grader.submit_tag('WordsTagsCount', '%s\\n%s' % (','.join(tag for tag, _ in most_common_tags), \n",
        "                                                ','.join(word for word, _ in most_common_words)))"
      ],
      "execution_count": 20,
      "outputs": [
        {
          "output_type": "stream",
          "text": [
            "Current answer for task WordsTagsCount is:\n",
            " javascript,c#,java\n",
            "using,php,java...\n"
          ],
          "name": "stdout"
        }
      ]
    },
    {
      "cell_type": "markdown",
      "metadata": {
        "id": "cH_p3zn0aApO"
      },
      "source": [
        "### Transforming text to a vector\n",
        "\n",
        "Machine Learning algorithms work with numeric data and we cannot use the provided text data \"as is\". There are many ways to transform text data to numeric vectors. In this task you will try to use two of them.\n",
        "\n",
        "#### Bag of words\n",
        "\n",
        "One of the well-known approaches is a *bag-of-words* representation. To create this transformation, follow the steps:\n",
        "1. Find *N* most popular words in train corpus and numerate them. Now we have a dictionary of the most popular words.\n",
        "2. For each title in the corpora create a zero vector with the dimension equals to *N*.\n",
        "3. For each text in the corpora iterate over words which are in the dictionary and increase by 1 the corresponding coordinate.\n",
        "\n",
        "Let's try to do it for a toy example. Imagine that we have *N* = 4 and the list of the most popular words is \n",
        "\n",
        "    ['hi', 'you', 'me', 'are']\n",
        "\n",
        "Then we need to numerate them, for example, like this: \n",
        "\n",
        "    {'hi': 0, 'you': 1, 'me': 2, 'are': 3}\n",
        "\n",
        "And we have the text, which we want to transform to the vector:\n",
        "\n",
        "    'hi how are you'\n",
        "\n",
        "For this text we create a corresponding zero vector \n",
        "\n",
        "    [0, 0, 0, 0]\n",
        "    \n",
        "And iterate over all words, and if the word is in the dictionary, we increase the value of the corresponding position in the vector:\n",
        "\n",
        "    'hi':  [1, 0, 0, 0]\n",
        "    'how': [1, 0, 0, 0] # word 'how' is not in our dictionary\n",
        "    'are': [1, 0, 0, 1]\n",
        "    'you': [1, 1, 0, 1]\n",
        "\n",
        "The resulting vector will be \n",
        "\n",
        "    [1, 1, 0, 1]\n",
        "   \n",
        "Implement the described encoding in the function *my_bag_of_words* with the size of the dictionary equals to 5000. To find the most common words use train data. You can test your code using the function *test_my_bag_of_words*."
      ]
    },
    {
      "cell_type": "code",
      "metadata": {
        "id": "DRayabpSS1_9",
        "outputId": "f3f7a6d7-5674-4890-d747-25524f3c385c",
        "colab": {
          "base_uri": "https://localhost:8080/",
          "height": 1000
        }
      },
      "source": [
        "{k: i for i, (k, f) in enumerate(sorted(words_counts.items(), key=lambda x: x[1], reverse=True)[:5000])}"
      ],
      "execution_count": 21,
      "outputs": [
        {
          "output_type": "execute_result",
          "data": {
            "text/plain": [
              "{'using': 0,\n",
              " 'php': 1,\n",
              " 'java': 2,\n",
              " 'file': 3,\n",
              " 'javascript': 4,\n",
              " 'error': 5,\n",
              " 'get': 6,\n",
              " 'c#': 7,\n",
              " 'python': 8,\n",
              " 'string': 9,\n",
              " 'array': 10,\n",
              " 'data': 11,\n",
              " 'jquery': 12,\n",
              " 'value': 13,\n",
              " 'function': 14,\n",
              " 'object': 15,\n",
              " 'class': 16,\n",
              " 'use': 17,\n",
              " 'c++': 18,\n",
              " 'list': 19,\n",
              " 'method': 20,\n",
              " 'multiple': 21,\n",
              " 'text': 22,\n",
              " 'image': 23,\n",
              " 'page': 24,\n",
              " 'rails': 25,\n",
              " 'form': 26,\n",
              " 'create': 27,\n",
              " 'html': 28,\n",
              " 'type': 29,\n",
              " 'code': 30,\n",
              " 'set': 31,\n",
              " 'working': 32,\n",
              " 'database': 33,\n",
              " 'add': 34,\n",
              " 'convert': 35,\n",
              " 'mysql': 36,\n",
              " 'json': 37,\n",
              " 'c': 38,\n",
              " 'server': 39,\n",
              " 'variable': 40,\n",
              " 'android': 41,\n",
              " 'values': 42,\n",
              " 'aspnet': 43,\n",
              " 'way': 44,\n",
              " 'application': 45,\n",
              " 'change': 46,\n",
              " 'button': 47,\n",
              " 'find': 48,\n",
              " 'django': 49,\n",
              " 'one': 50,\n",
              " 'without': 51,\n",
              " 'windows': 52,\n",
              " 'cannot': 53,\n",
              " 'table': 54,\n",
              " 'call': 55,\n",
              " 'files': 56,\n",
              " 'ajax': 57,\n",
              " 'check': 58,\n",
              " 'time': 59,\n",
              " 'name': 60,\n",
              " 'two': 61,\n",
              " 'ruby': 62,\n",
              " 'getting': 63,\n",
              " 'date': 64,\n",
              " 'web': 65,\n",
              " 'make': 66,\n",
              " 'input': 67,\n",
              " 'user': 68,\n",
              " 'xml': 69,\n",
              " 'app': 70,\n",
              " 'another': 71,\n",
              " 'element': 72,\n",
              " 'custom': 73,\n",
              " 'event': 74,\n",
              " 'api': 75,\n",
              " 'access': 76,\n",
              " 'url': 77,\n",
              " 'number': 78,\n",
              " 'spring': 79,\n",
              " 'view': 80,\n",
              " 'sql': 81,\n",
              " 'return': 82,\n",
              " 'mvc': 83,\n",
              " 'select': 84,\n",
              " 'google': 85,\n",
              " 'query': 86,\n",
              " 'inside': 87,\n",
              " 'exception': 88,\n",
              " 'display': 89,\n",
              " 'column': 90,\n",
              " 'read': 91,\n",
              " 'loop': 92,\n",
              " 'swift': 93,\n",
              " 'new': 94,\n",
              " 'work': 95,\n",
              " 'remove': 96,\n",
              " 'load': 97,\n",
              " 'r': 98,\n",
              " 'objects': 99,\n",
              " 'property': 100,\n",
              " 'line': 101,\n",
              " 'cant': 102,\n",
              " 'pass': 103,\n",
              " 'click': 104,\n",
              " 'framework': 105,\n",
              " 'update': 106,\n",
              " 'script': 107,\n",
              " 'vs': 108,\n",
              " 'post': 109,\n",
              " 'null': 110,\n",
              " '2': 111,\n",
              " 'creating': 112,\n",
              " 'net': 113,\n",
              " 'request': 114,\n",
              " 'different': 115,\n",
              " 'field': 116,\n",
              " 'key': 117,\n",
              " 'run': 118,\n",
              " 'row': 119,\n",
              " 'doesnt': 120,\n",
              " 'ios': 121,\n",
              " 'service': 122,\n",
              " 'linq': 123,\n",
              " 'div': 124,\n",
              " 'open': 125,\n",
              " 'window': 126,\n",
              " 'project': 127,\n",
              " 'wpf': 128,\n",
              " 'format': 129,\n",
              " 'best': 130,\n",
              " 'show': 131,\n",
              " 'controller': 132,\n",
              " 'variables': 133,\n",
              " 'undefined': 134,\n",
              " 'specific': 135,\n",
              " 'dynamically': 136,\n",
              " 'adding': 137,\n",
              " 'based': 138,\n",
              " 'angularjs': 139,\n",
              " 'control': 140,\n",
              " 'parameter': 141,\n",
              " 'send': 142,\n",
              " 'model': 143,\n",
              " '3': 144,\n",
              " 'library': 145,\n",
              " 'difference': 146,\n",
              " 'insert': 147,\n",
              " 'first': 148,\n",
              " 'passing': 149,\n",
              " 'vbnet': 150,\n",
              " 'js': 151,\n",
              " 'regex': 152,\n",
              " 'elements': 153,\n",
              " 'codeigniter': 154,\n",
              " 'eclipse': 155,\n",
              " 'within': 156,\n",
              " 'path': 157,\n",
              " 'dynamic': 158,\n",
              " 'visual': 159,\n",
              " 'memory': 160,\n",
              " 'connection': 161,\n",
              " 'possible': 162,\n",
              " 'id': 163,\n",
              " 'thread': 164,\n",
              " 'save': 165,\n",
              " '+': 166,\n",
              " 'default': 167,\n",
              " 'via': 168,\n",
              " 'running': 169,\n",
              " 'size': 170,\n",
              " 'program': 171,\n",
              " 'found': 172,\n",
              " 'content': 173,\n",
              " 'reference': 174,\n",
              " 'issue': 175,\n",
              " 'attribute': 176,\n",
              " 'write': 177,\n",
              " 'studio': 178,\n",
              " 'laravel': 179,\n",
              " 'search': 180,\n",
              " 'test': 181,\n",
              " 'excel': 182,\n",
              " 'static': 183,\n",
              " 'session': 184,\n",
              " 'output': 185,\n",
              " 'http': 186,\n",
              " 'character': 187,\n",
              " 'characters': 188,\n",
              " 'entity': 189,\n",
              " 'current': 190,\n",
              " 'problem': 191,\n",
              " 'client': 192,\n",
              " 'calling': 193,\n",
              " 'empty': 194,\n",
              " 'simple': 195,\n",
              " 'int': 196,\n",
              " 'css': 197,\n",
              " 'parameters': 198,\n",
              " 'upload': 199,\n",
              " 'command': 200,\n",
              " 'reading': 201,\n",
              " 'directory': 202,\n",
              " 'validation': 203,\n",
              " '1': 204,\n",
              " 'map': 205,\n",
              " 'hibernate': 206,\n",
              " 'selected': 207,\n",
              " 'textbox': 208,\n",
              " 'unable': 209,\n",
              " 'browser': 210,\n",
              " 'images': 211,\n",
              " 'item': 212,\n",
              " 'link': 213,\n",
              " 'index': 214,\n",
              " 'facebook': 215,\n",
              " 'expression': 216,\n",
              " 'store': 217,\n",
              " 'setting': 218,\n",
              " 'delete': 219,\n",
              " 'single': 220,\n",
              " 'template': 221,\n",
              " 'like': 222,\n",
              " 'statement': 223,\n",
              " 'strings': 224,\n",
              " 'rows': 225,\n",
              " 'failed': 226,\n",
              " 'header': 227,\n",
              " 'replace': 228,\n",
              " 'loading': 229,\n",
              " 'login': 230,\n",
              " 'box': 231,\n",
              " 'iphone': 232,\n",
              " '4': 233,\n",
              " 'numbers': 234,\n",
              " 'color': 235,\n",
              " 'nested': 236,\n",
              " 'returning': 237,\n",
              " 'print': 238,\n",
              " 'instance': 239,\n",
              " 'background': 240,\n",
              " 'pdf': 241,\n",
              " 'char': 242,\n",
              " 'parse': 243,\n",
              " 'could': 244,\n",
              " 'disable': 245,\n",
              " 'bootstrap': 246,\n",
              " 'message': 247,\n",
              " 'csv': 248,\n",
              " 'module': 249,\n",
              " 'tag': 250,\n",
              " 'chrome': 251,\n",
              " 'converting': 252,\n",
              " 'x': 253,\n",
              " 'parent': 254,\n",
              " 'invalid': 255,\n",
              " 'returns': 256,\n",
              " 'local': 257,\n",
              " 'methods': 258,\n",
              " 'need': 259,\n",
              " 'connect': 260,\n",
              " 'email': 261,\n",
              " 'changing': 262,\n",
              " 'trying': 263,\n",
              " 'response': 264,\n",
              " 'functions': 265,\n",
              " 'install': 266,\n",
              " 'redirect': 267,\n",
              " 'angular': 268,\n",
              " 'order': 269,\n",
              " 'dictionary': 270,\n",
              " 'arrays': 271,\n",
              " 'dropdown': 272,\n",
              " 'classes': 273,\n",
              " 'folder': 274,\n",
              " 'generate': 275,\n",
              " 'bar': 276,\n",
              " 'submit': 277,\n",
              " 'pandas': 278,\n",
              " 'process': 279,\n",
              " 'columns': 280,\n",
              " 'child': 281,\n",
              " 'source': 282,\n",
              " 'checkbox': 283,\n",
              " 'integer': 284,\n",
              " 'count': 285,\n",
              " 'sending': 286,\n",
              " 'parsing': 287,\n",
              " 'items': 288,\n",
              " 'start': 289,\n",
              " 'detect': 290,\n",
              " 'double': 291,\n",
              " 'datetime': 292,\n",
              " 'hide': 293,\n",
              " 'fields': 294,\n",
              " 'jsp': 295,\n",
              " 'console': 296,\n",
              " 'gridview': 297,\n",
              " 'pointer': 298,\n",
              " 'selenium': 299,\n",
              " 'linux': 300,\n",
              " 'constructor': 301,\n",
              " 'import': 302,\n",
              " 'random': 303,\n",
              " '7': 304,\n",
              " 'programmatically': 305,\n",
              " 'action': 306,\n",
              " 'collection': 307,\n",
              " 'instead': 308,\n",
              " 'version': 309,\n",
              " 'datagridview': 310,\n",
              " 'filter': 311,\n",
              " 'sort': 312,\n",
              " 'objectivec': 313,\n",
              " 'website': 314,\n",
              " 'generic': 315,\n",
              " 'last': 316,\n",
              " 'result': 317,\n",
              " 'build': 318,\n",
              " 'system': 319,\n",
              " 'download': 320,\n",
              " 'split': 321,\n",
              " 'properties': 322,\n",
              " 'interface': 323,\n",
              " 'iframe': 324,\n",
              " 'back': 325,\n",
              " 'nodejs': 326,\n",
              " 'cell': 327,\n",
              " 'binding': 328,\n",
              " 'arguments': 329,\n",
              " 'datatable': 330,\n",
              " '5': 331,\n",
              " 'syntax': 332,\n",
              " 'xcode': 333,\n",
              " 'scroll': 334,\n",
              " 'onclick': 335,\n",
              " 'binary': 336,\n",
              " 'external': 337,\n",
              " 'position': 338,\n",
              " 'execute': 339,\n",
              " '0': 340,\n",
              " 'socket': 341,\n",
              " 'rest': 342,\n",
              " 'called': 343,\n",
              " 'missing': 344,\n",
              " 'word': 345,\n",
              " 'maps': 346,\n",
              " 'implement': 347,\n",
              " 'typeerror': 348,\n",
              " 'byte': 349,\n",
              " 'whats': 350,\n",
              " 'extension': 351,\n",
              " 'copy': 352,\n",
              " 'refresh': 353,\n",
              " 'video': 354,\n",
              " 'menu': 355,\n",
              " 'match': 356,\n",
              " 'given': 357,\n",
              " 'argument': 358,\n",
              " 'node': 359,\n",
              " 'wordpress': 360,\n",
              " 'include': 361,\n",
              " 'retrieve': 362,\n",
              " 'regular': 363,\n",
              " 'accessing': 364,\n",
              " 'forms': 365,\n",
              " 'canvas': 366,\n",
              " 'showing': 367,\n",
              " 'document': 368,\n",
              " 'results': 369,\n",
              " 'ui': 370,\n",
              " 'runtime': 371,\n",
              " 'arraylist': 372,\n",
              " 'defined': 373,\n",
              " 'handle': 374,\n",
              " 'drop': 375,\n",
              " 'group': 376,\n",
              " 'apache': 377,\n",
              " 'errors': 378,\n",
              " 'large': 379,\n",
              " 'opencv': 380,\n",
              " 'height': 381,\n",
              " 'compare': 382,\n",
              " 'wcf': 383,\n",
              " 'address': 384,\n",
              " 'ie': 385,\n",
              " 'mobile': 386,\n",
              " 'many': 387,\n",
              " 'properly': 388,\n",
              " 'member': 389,\n",
              " 'equivalent': 390,\n",
              " '8': 391,\n",
              " 'screen': 392,\n",
              " 'exists': 393,\n",
              " 'global': 394,\n",
              " 'plugin': 395,\n",
              " 'password': 396,\n",
              " 'expected': 397,\n",
              " 'vector': 398,\n",
              " 'events': 399,\n",
              " 'jar': 400,\n",
              " 'maven': 401,\n",
              " 'length': 402,\n",
              " 'location': 403,\n",
              " 'writing': 404,\n",
              " 'types': 405,\n",
              " 'numpy': 406,\n",
              " 'servlet': 407,\n",
              " 'html5': 408,\n",
              " 'extract': 409,\n",
              " 'width': 410,\n",
              " 'stored': 411,\n",
              " 'close': 412,\n",
              " 'dataframe': 413,\n",
              " 'dialog': 414,\n",
              " 'certain': 415,\n",
              " 'help': 416,\n",
              " 'used': 417,\n",
              " 'range': 418,\n",
              " 'style': 419,\n",
              " 'names': 420,\n",
              " 'handling': 421,\n",
              " 'prevent': 422,\n",
              " 'automatically': 423,\n",
              " 'works': 424,\n",
              " 'resource': 425,\n",
              " 'magento': 426,\n",
              " 'every': 427,\n",
              " 'tomcat': 428,\n",
              " 'fails': 429,\n",
              " 'cast': 430,\n",
              " 'created': 431,\n",
              " 'pattern': 432,\n",
              " 'warning': 433,\n",
              " 'frame': 434,\n",
              " 'popup': 435,\n",
              " 'wrong': 436,\n",
              " 'contains': 437,\n",
              " 'validate': 438,\n",
              " 'displaying': 439,\n",
              " 'enum': 440,\n",
              " 'updating': 441,\n",
              " 'qt': 442,\n",
              " 'curl': 443,\n",
              " 'package': 444,\n",
              " 'stop': 445,\n",
              " 'must': 446,\n",
              " 'testing': 447,\n",
              " 'listview': 448,\n",
              " 'operator': 449,\n",
              " '2d': 450,\n",
              " 'space': 451,\n",
              " 'put': 452,\n",
              " 'authentication': 453,\n",
              " 'context': 454,\n",
              " 'conversion': 455,\n",
              " 'keys': 456,\n",
              " 'auto': 457,\n",
              " 'structure': 458,\n",
              " 'callback': 459,\n",
              " 'main': 460,\n",
              " 'saving': 461,\n",
              " 'token': 462,\n",
              " 'end': 463,\n",
              " 'exist': 464,\n",
              " 'long': 465,\n",
              " 'tab': 466,\n",
              " 'db': 467,\n",
              " 'problems': 468,\n",
              " 'foreach': 469,\n",
              " 'existing': 470,\n",
              " 'dll': 471,\n",
              " 'always': 472,\n",
              " 'block': 473,\n",
              " 'sorting': 474,\n",
              " 'grid': 475,\n",
              " 'finding': 476,\n",
              " 'matplotlib': 477,\n",
              " 'remote': 478,\n",
              " 'sqlite': 479,\n",
              " 'buttons': 480,\n",
              " 'option': 481,\n",
              " 'bind': 482,\n",
              " 'determine': 483,\n",
              " 'modal': 484,\n",
              " 'firefox': 485,\n",
              " 'stream': 486,\n",
              " 'performance': 487,\n",
              " 'tags': 488,\n",
              " 'label': 489,\n",
              " 'plot': 490,\n",
              " 'mac': 491,\n",
              " 'join': 492,\n",
              " 'decimal': 493,\n",
              " 'combobox': 494,\n",
              " 'uncaught': 495,\n",
              " 'phone': 496,\n",
              " 'radio': 497,\n",
              " 'example': 498,\n",
              " 'chart': 499,\n",
              " 'compile': 500,\n",
              " 'unexpected': 501,\n",
              " 'attributes': 502,\n",
              " 'dom': 503,\n",
              " 'checking': 504,\n",
              " 'correctly': 505,\n",
              " 'right': 506,\n",
              " 'tables': 507,\n",
              " 'point': 508,\n",
              " 'installing': 509,\n",
              " 'lines': 510,\n",
              " 'base': 511,\n",
              " 'mouse': 512,\n",
              " 'float': 513,\n",
              " 'users': 514,\n",
              " 'basic': 515,\n",
              " 'support': 516,\n",
              " 'struct': 517,\n",
              " 'tree': 518,\n",
              " 'making': 519,\n",
              " 'unit': 520,\n",
              " 'unique': 521,\n",
              " 'scope': 522,\n",
              " 'threads': 523,\n",
              " 'correct': 524,\n",
              " 'hash': 525,\n",
              " 'duplicate': 526,\n",
              " 'catch': 527,\n",
              " 'next': 528,\n",
              " 'handler': 529,\n",
              " 'mean': 530,\n",
              " 'already': 531,\n",
              " 'wont': 532,\n",
              " 'even': 533,\n",
              " 'good': 534,\n",
              " 'edit': 535,\n",
              " 'task': 536,\n",
              " 'admin': 537,\n",
              " 'uitableview': 538,\n",
              " 'removing': 539,\n",
              " 'matrix': 540,\n",
              " 'namespace': 541,\n",
              " 'contents': 542,\n",
              " 'pages': 543,\n",
              " 'valid': 544,\n",
              " 'graph': 545,\n",
              " 'dates': 546,\n",
              " 'lists': 547,\n",
              " 'sdk': 548,\n",
              " 'log': 549,\n",
              " 'encoding': 550,\n",
              " 'const': 551,\n",
              " 'debug': 552,\n",
              " 'objective': 553,\n",
              " 'case': 554,\n",
              " 'calculate': 555,\n",
              " 'changes': 556,\n",
              " 'site': 557,\n",
              " 'programming': 558,\n",
              " 'configuration': 559,\n",
              " 'storing': 560,\n",
              " 'side': 561,\n",
              " 'active': 562,\n",
              " 'sum': 563,\n",
              " 'full': 564,\n",
              " 'limit': 565,\n",
              " 'keep': 566,\n",
              " 'jpa': 567,\n",
              " 'top': 568,\n",
              " 'listbox': 569,\n",
              " 'implementation': 570,\n",
              " 'animation': 571,\n",
              " 'unicode': 572,\n",
              " 'append': 573,\n",
              " 'override': 574,\n",
              " 'printing': 575,\n",
              " 'mongodb': 576,\n",
              " 'twitter': 577,\n",
              " 'allow': 578,\n",
              " 'record': 579,\n",
              " 'winforms': 580,\n",
              " 'part': 581,\n",
              " 'resize': 582,\n",
              " 'utf8': 583,\n",
              " 'core': 584,\n",
              " 'lambda': 585,\n",
              " 'loaded': 586,\n",
              " 'mail': 587,\n",
              " 'ip': 588,\n",
              " 'security': 589,\n",
              " 'controls': 590,\n",
              " 'play': 591,\n",
              " 'times': 592,\n",
              " 'pdo': 593,\n",
              " 'layout': 594,\n",
              " 'selection': 595,\n",
              " 'async': 596,\n",
              " 'fatal': 597,\n",
              " 'game': 598,\n",
              " 'records': 599,\n",
              " 'bean': 600,\n",
              " 'language': 601,\n",
              " 'boolean': 602,\n",
              " 'webdriver': 603,\n",
              " 'cookie': 604,\n",
              " 'draw': 605,\n",
              " 'constant': 606,\n",
              " 'switch': 607,\n",
              " 'outside': 608,\n",
              " 'cakephp': 609,\n",
              " 'domain': 610,\n",
              " 'gui': 611,\n",
              " 'force': 612,\n",
              " 'unknown': 613,\n",
              " 'true': 614,\n",
              " 'inserting': 615,\n",
              " 'assign': 616,\n",
              " 'wait': 617,\n",
              " 'port': 618,\n",
              " 'false': 619,\n",
              " 'mode': 620,\n",
              " '20': 621,\n",
              " 'slow': 622,\n",
              " 'named': 623,\n",
              " 'state': 624,\n",
              " 'focus': 625,\n",
              " 'oracle': 626,\n",
              " 'issues': 627,\n",
              " 'requests': 628,\n",
              " 'mapping': 629,\n",
              " 'netbeans': 630,\n",
              " 'available': 631,\n",
              " 'condition': 632,\n",
              " 'multidimensional': 633,\n",
              " 'enable': 634,\n",
              " 'generated': 635,\n",
              " 'ubuntu': 636,\n",
              " 'assembly': 637,\n",
              " 'jdbc': 638,\n",
              " 'uploading': 639,\n",
              " 'clicked': 640,\n",
              " 'device': 641,\n",
              " 'gem': 642,\n",
              " 'populate': 643,\n",
              " 'yii': 644,\n",
              " 'specified': 645,\n",
              " 'swing': 646,\n",
              " 'soap': 647,\n",
              " 'required': 648,\n",
              " 'special': 649,\n",
              " 'engine': 650,\n",
              " 'initialize': 651,\n",
              " 'checked': 652,\n",
              " 'exceptions': 653,\n",
              " '2010': 654,\n",
              " 'executing': 655,\n",
              " 'know': 656,\n",
              " 'network': 657,\n",
              " 'bad': 658,\n",
              " 'native': 659,\n",
              " 'avoid': 660,\n",
              " 'tkinter': 661,\n",
              " 'javafx': 662,\n",
              " 'try': 663,\n",
              " 'design': 664,\n",
              " '6': 665,\n",
              " 'timeout': 666,\n",
              " 'month': 667,\n",
              " 'export': 668,\n",
              " 'webservice': 669,\n",
              " 'efficient': 670,\n",
              " 'trigger': 671,\n",
              " 'n': 672,\n",
              " 'want': 673,\n",
              " '404': 674,\n",
              " 'heroku': 675,\n",
              " 'move': 676,\n",
              " 'question': 677,\n",
              " 'os': 678,\n",
              " 'component': 679,\n",
              " 'timer': 680,\n",
              " 'dont': 681,\n",
              " 'iterate': 682,\n",
              " 'stack': 683,\n",
              " '10': 684,\n",
              " 'zend': 685,\n",
              " 'words': 686,\n",
              " 'body': 687,\n",
              " 'textarea': 688,\n",
              " 'views': 689,\n",
              " 'implementing': 690,\n",
              " 'compiler': 691,\n",
              " 'clicking': 692,\n",
              " 'linked': 693,\n",
              " 'symbol': 694,\n",
              " 'clear': 695,\n",
              " 'render': 696,\n",
              " 'flask': 697,\n",
              " 'root': 698,\n",
              " 'navigation': 699,\n",
              " 'symfony2': 700,\n",
              " 'second': 701,\n",
              " 'define': 702,\n",
              " 'datagrid': 703,\n",
              " 'pointers': 704,\n",
              " 'fill': 705,\n",
              " 'ssl': 706,\n",
              " 'inheritance': 707,\n",
              " 'private': 708,\n",
              " 'route': 709,\n",
              " 'procedure': 710,\n",
              " 'particular': 711,\n",
              " 'rspec': 712,\n",
              " 'information': 713,\n",
              " 'left': 714,\n",
              " 'scrolling': 715,\n",
              " 'declaration': 716,\n",
              " 'status': 717,\n",
              " 'behind': 718,\n",
              " 'bytes': 719,\n",
              " 'fetch': 720,\n",
              " 'fix': 721,\n",
              " 'services': 722,\n",
              " 'calendar': 723,\n",
              " 'reflection': 724,\n",
              " 'push': 725,\n",
              " 'spaces': 726,\n",
              " 'algorithm': 727,\n",
              " 'xpath': 728,\n",
              " 'alert': 729,\n",
              " 'apply': 730,\n",
              " 'cache': 731,\n",
              " 'integers': 732,\n",
              " 'youtube': 733,\n",
              " 'development': 734,\n",
              " 'calls': 735,\n",
              " 'dependency': 736,\n",
              " 'options': 737,\n",
              " 'maximum': 738,\n",
              " 'hex': 739,\n",
              " 'max': 740,\n",
              " 'https': 741,\n",
              " 'usage': 742,\n",
              " 'progress': 743,\n",
              " 'target': 744,\n",
              " 'previous': 745,\n",
              " 'environment': 746,\n",
              " 'models': 747,\n",
              " 'merge': 748,\n",
              " 'title': 749,\n",
              " 'practice': 750,\n",
              " 'internet': 751,\n",
              " 'comparing': 752,\n",
              " 'changed': 753,\n",
              " 'headers': 754,\n",
              " 'notification': 755,\n",
              " 'driver': 756,\n",
              " 'libraries': 757,\n",
              " 'boost': 758,\n",
              " 'matching': 759,\n",
              " 'apps': 760,\n",
              " 'statements': 761,\n",
              " 'panel': 762,\n",
              " 'symfony': 763,\n",
              " 'shared': 764,\n",
              " 'font': 765,\n",
              " 'opengl': 766,\n",
              " 'tests': 767,\n",
              " 'processing': 768,\n",
              " 'comma': 769,\n",
              " 'public': 770,\n",
              " 'xaml': 771,\n",
              " 'installed': 772,\n",
              " 'datepicker': 773,\n",
              " 'separate': 774,\n",
              " 'standard': 775,\n",
              " 'icon': 776,\n",
              " 'resources': 777,\n",
              " 'directive': 778,\n",
              " 'report': 779,\n",
              " 'abstract': 780,\n",
              " 'links': 781,\n",
              " 'htaccess': 782,\n",
              " 'better': 783,\n",
              " 'hidden': 784,\n",
              " 'container': 785,\n",
              " 'serialize': 786,\n",
              " 'debugging': 787,\n",
              " 'logging': 788,\n",
              " 'would': 789,\n",
              " 'asp': 790,\n",
              " 'resolve': 791,\n",
              " 'autocomplete': 792,\n",
              " 'junit': 793,\n",
              " 'configure': 794,\n",
              " 'ggplot2': 795,\n",
              " 'react': 796,\n",
              " 'see': 797,\n",
              " 'hashmap': 798,\n",
              " 'partial': 799,\n",
              " 'alternative': 800,\n",
              " 'queries': 801,\n",
              " 'selecting': 802,\n",
              " 'visible': 803,\n",
              " 'echo': 804,\n",
              " 'messages': 805,\n",
              " 'returned': 806,\n",
              " 'throws': 807,\n",
              " 'devise': 808,\n",
              " 'something': 809,\n",
              " 'keyboard': 810,\n",
              " 'proxy': 811,\n",
              " 'svg': 812,\n",
              " 'checkboxes': 813,\n",
              " 'declare': 814,\n",
              " 'generating': 815,\n",
              " 'denied': 816,\n",
              " 'take': 817,\n",
              " 'jtable': 818,\n",
              " 'whether': 819,\n",
              " 'coordinates': 820,\n",
              " 'escape': 821,\n",
              " 'operation': 822,\n",
              " 'quotes': 823,\n",
              " 'causes': 824,\n",
              " 'virtual': 825,\n",
              " 'formatting': 826,\n",
              " 'extjs': 827,\n",
              " 'day': 828,\n",
              " 'drag': 829,\n",
              " 'jsf': 830,\n",
              " 'reload': 831,\n",
              " 'drawing': 832,\n",
              " 'setup': 833,\n",
              " 'contain': 834,\n",
              " 'shell': 835,\n",
              " 'product': 836,\n",
              " 'dataset': 837,\n",
              " 'intellij': 838,\n",
              " 'machine': 839,\n",
              " 'delegate': 840,\n",
              " 'webpage': 841,\n",
              " 'entities': 842,\n",
              " 'rendering': 843,\n",
              " 'queue': 844,\n",
              " 'strange': 845,\n",
              " 'phonegap': 846,\n",
              " 'containing': 847,\n",
              " 'cells': 848,\n",
              " 'applications': 849,\n",
              " 'twice': 850,\n",
              " 'dropdownlist': 851,\n",
              " 'connecting': 852,\n",
              " 'inline': 853,\n",
              " 'per': 854,\n",
              " 'execution': 855,\n",
              " 'gcc': 856,\n",
              " 'blank': 857,\n",
              " 'relationship': 858,\n",
              " 'uiview': 859,\n",
              " 'level': 860,\n",
              " 'opening': 861,\n",
              " 'ms': 862,\n",
              " 'conditional': 863,\n",
              " 'razor': 864,\n",
              " 'serialization': 865,\n",
              " 'gives': 866,\n",
              " 'widget': 867,\n",
              " 'initialization': 868,\n",
              " 'relative': 869,\n",
              " 'modify': 870,\n",
              " 'safe': 871,\n",
              " 'etc': 872,\n",
              " 'internal': 873,\n",
              " 'nodes': 874,\n",
              " 'jqgrid': 875,\n",
              " 'definition': 876,\n",
              " 'timestamp': 877,\n",
              " 'capture': 878,\n",
              " 'batch': 879,\n",
              " 'importing': 880,\n",
              " 'building': 881,\n",
              " 'retrieving': 882,\n",
              " 'expressions': 883,\n",
              " 'compiling': 884,\n",
              " 'else': 885,\n",
              " 'allowed': 886,\n",
              " 'added': 887,\n",
              " 'still': 888,\n",
              " 'numeric': 889,\n",
              " 'tcp': 890,\n",
              " 'year': 891,\n",
              " 'host': 892,\n",
              " 'sqlalchemy': 893,\n",
              " 'seconds': 894,\n",
              " 'doctrine': 895,\n",
              " 'boot': 896,\n",
              " 'highcharts': 897,\n",
              " 'cookies': 898,\n",
              " 'selector': 899,\n",
              " 'href': 900,\n",
              " 'nsstring': 901,\n",
              " 'foreign': 902,\n",
              " 'jframe': 903,\n",
              " 'jackson': 904,\n",
              " 'starting': 905,\n",
              " 'config': 906,\n",
              " 'annotation': 907,\n",
              " 'embedded': 908,\n",
              " 'fast': 909,\n",
              " 'reset': 910,\n",
              " 'protocol': 911,\n",
              " 'touch': 912,\n",
              " 'injection': 913,\n",
              " 'section': 914,\n",
              " 'firing': 915,\n",
              " 'tabs': 916,\n",
              " 'jaxb': 917,\n",
              " 'webbrowser': 918,\n",
              " 'ascii': 919,\n",
              " 'points': 920,\n",
              " 'closing': 921,\n",
              " 'overriding': 922,\n",
              " 'transaction': 923,\n",
              " 'postgresql': 924,\n",
              " 'trouble': 925,\n",
              " 'hover': 926,\n",
              " 'sharepoint': 927,\n",
              " 'passed': 928,\n",
              " 'labels': 929,\n",
              " 'cursor': 930,\n",
              " 'able': 931,\n",
              " 'gwt': 932,\n",
              " 'recursive': 933,\n",
              " 'specify': 934,\n",
              " 'sequence': 935,\n",
              " 'localhost': 936,\n",
              " 'explorer': 937,\n",
              " 'urls': 938,\n",
              " 'asynchronous': 939,\n",
              " 'assignment': 940,\n",
              " 'replacing': 941,\n",
              " 'deploy': 942,\n",
              " 'fixed': 943,\n",
              " 'webview': 944,\n",
              " 'giving': 945,\n",
              " 'days': 946,\n",
              " 'templates': 947,\n",
              " 'exit': 948,\n",
              " 'fastest': 949,\n",
              " 'base64': 950,\n",
              " 'anchor': 951,\n",
              " 'restful': 952,\n",
              " 'deleting': 953,\n",
              " 'toggle': 954,\n",
              " 'axis': 955,\n",
              " 'nil': 956,\n",
              " 'go': 957,\n",
              " 'v3': 958,\n",
              " 'enter': 959,\n",
              " 'osx': 960,\n",
              " 'proper': 961,\n",
              " 'vb': 962,\n",
              " '500': 963,\n",
              " 'moving': 964,\n",
              " 'digits': 965,\n",
              " 'nhibernate': 966,\n",
              " 'casting': 967,\n",
              " 'ignore': 968,\n",
              " 'stl': 969,\n",
              " 'faster': 970,\n",
              " 'activerecord': 971,\n",
              " 'permission': 972,\n",
              " 'settings': 973,\n",
              " 'pagination': 974,\n",
              " 'mysqli': 975,\n",
              " 'border': 976,\n",
              " 'lock': 977,\n",
              " 'including': 978,\n",
              " 'loops': 979,\n",
              " 'serial': 980,\n",
              " 'declared': 981,\n",
              " 'incorrect': 982,\n",
              " 'caching': 983,\n",
              " 'activity': 984,\n",
              " 'username': 985,\n",
              " 'real': 986,\n",
              " 's3': 987,\n",
              " 'effect': 988,\n",
              " 'sent': 989,\n",
              " 'comparison': 990,\n",
              " 'complex': 991,\n",
              " 'complete': 992,\n",
              " 'safari': 993,\n",
              " 'invoke': 994,\n",
              " 'across': 995,\n",
              " 'uitableviewcell': 996,\n",
              " 'txt': 997,\n",
              " 'void': 998,\n",
              " 'audio': 999,\n",
              " ...}"
            ]
          },
          "metadata": {
            "tags": []
          },
          "execution_count": 21
        }
      ]
    },
    {
      "cell_type": "code",
      "metadata": {
        "id": "mu-u2VyTaApP"
      },
      "source": [
        "DICT_SIZE = 5000\n",
        "WORDS_TO_INDEX = {k: i for i, (k, f) in enumerate(sorted(words_counts.items(), key=lambda x: x[1], reverse=True)[:DICT_SIZE])}\n",
        "INDEX_TO_WORDS = {i: k for i, (k, f) in enumerate(sorted(words_counts.items(), key=lambda x: x[1], reverse=True)[:DICT_SIZE])}\n",
        "ALL_WORDS = WORDS_TO_INDEX.keys()\n",
        "\n",
        "def my_bag_of_words(text, words_to_index, dict_size):\n",
        "    \"\"\"\n",
        "        text: a string\n",
        "        dict_size: size of the dictionary\n",
        "        \n",
        "        return a vector which is a bag-of-words representation of 'text'\n",
        "    \"\"\"\n",
        "    result_vector = np.zeros(dict_size)\n",
        "    ######################################\n",
        "    ######### YOUR CODE HERE #############\n",
        "    ######################################\n",
        "    for w in text.split():\n",
        "        if w in words_to_index:\n",
        "            result_vector[words_to_index[w]] += 1\n",
        "    return result_vector"
      ],
      "execution_count": 22,
      "outputs": []
    },
    {
      "cell_type": "code",
      "metadata": {
        "id": "81LcSy81aApQ"
      },
      "source": [
        "def test_my_bag_of_words():\n",
        "    words_to_index = {'hi': 0, 'you': 1, 'me': 2, 'are': 3}\n",
        "    examples = ['hi how are you']\n",
        "    answers = [[1, 1, 0, 1]]\n",
        "    for ex, ans in zip(examples, answers):\n",
        "        if (my_bag_of_words(ex, words_to_index, 4) != ans).any():\n",
        "            return \"Wrong answer for the case: '%s'\" % ex\n",
        "    return 'Basic tests are passed.'"
      ],
      "execution_count": 23,
      "outputs": []
    },
    {
      "cell_type": "code",
      "metadata": {
        "id": "_vZwoSJlaApS",
        "outputId": "26905ee8-8705-4931-f8e7-0f82c1d41a6b",
        "colab": {
          "base_uri": "https://localhost:8080/",
          "height": 34
        }
      },
      "source": [
        "print(test_my_bag_of_words())"
      ],
      "execution_count": 24,
      "outputs": [
        {
          "output_type": "stream",
          "text": [
            "Basic tests are passed.\n"
          ],
          "name": "stdout"
        }
      ]
    },
    {
      "cell_type": "markdown",
      "metadata": {
        "id": "s9p1_szraApU"
      },
      "source": [
        "Now apply the implemented function to all samples (this might take up to a minute):"
      ]
    },
    {
      "cell_type": "code",
      "metadata": {
        "id": "XcGgPZDmaApV"
      },
      "source": [
        "from scipy import sparse as sp_sparse"
      ],
      "execution_count": 25,
      "outputs": []
    },
    {
      "cell_type": "code",
      "metadata": {
        "id": "3xdZvYfEaApX",
        "outputId": "732187b5-3365-43f3-e271-4a64baa3bdce",
        "colab": {
          "base_uri": "https://localhost:8080/",
          "height": 68
        }
      },
      "source": [
        "X_train_mybag = sp_sparse.vstack([sp_sparse.csr_matrix(my_bag_of_words(text, WORDS_TO_INDEX, DICT_SIZE)) for text in X_train])\n",
        "X_val_mybag = sp_sparse.vstack([sp_sparse.csr_matrix(my_bag_of_words(text, WORDS_TO_INDEX, DICT_SIZE)) for text in X_val])\n",
        "X_test_mybag = sp_sparse.vstack([sp_sparse.csr_matrix(my_bag_of_words(text, WORDS_TO_INDEX, DICT_SIZE)) for text in X_test])\n",
        "print('X_train shape ', X_train_mybag.shape)\n",
        "print('X_val shape ', X_val_mybag.shape)\n",
        "print('X_test shape ', X_test_mybag.shape)"
      ],
      "execution_count": 26,
      "outputs": [
        {
          "output_type": "stream",
          "text": [
            "X_train shape  (100000, 5000)\n",
            "X_val shape  (30000, 5000)\n",
            "X_test shape  (20000, 5000)\n"
          ],
          "name": "stdout"
        }
      ]
    },
    {
      "cell_type": "markdown",
      "metadata": {
        "id": "O-om8NCYaApZ"
      },
      "source": [
        "As you might notice, we transform the data to sparse representation, to store the useful information efficiently. There are many [types](https://docs.scipy.org/doc/scipy/reference/sparse.html) of such representations, however sklearn algorithms can work only with [csr](https://docs.scipy.org/doc/scipy/reference/generated/scipy.sparse.csr_matrix.html#scipy.sparse.csr_matrix) matrix, so we will use this one."
      ]
    },
    {
      "cell_type": "markdown",
      "metadata": {
        "id": "uAUzXTPpaApZ"
      },
      "source": [
        "**Task 3 (BagOfWords).** For the 11th row in *X_train_mybag* find how many non-zero elements it has. In this task the answer (variable *non_zero_elements_count*) should be an integer number, e.g. 20."
      ]
    },
    {
      "cell_type": "code",
      "metadata": {
        "id": "rOjn9nCCaApZ",
        "outputId": "4b25c6d5-3fb8-4416-9f3a-909f28a2ca4d",
        "colab": {
          "base_uri": "https://localhost:8080/",
          "height": 51
        }
      },
      "source": [
        "row = X_train_mybag[10].toarray()[0]\n",
        "non_zero_elements_count = np.sum(row != 0)\n",
        "\n",
        "grader.submit_tag('BagOfWords', str(non_zero_elements_count))"
      ],
      "execution_count": 27,
      "outputs": [
        {
          "output_type": "stream",
          "text": [
            "Current answer for task BagOfWords is:\n",
            " 7...\n"
          ],
          "name": "stdout"
        }
      ]
    },
    {
      "cell_type": "markdown",
      "metadata": {
        "id": "aWD0aGjXaApc"
      },
      "source": [
        "#### TF-IDF\n",
        "\n",
        "The second approach extends the bag-of-words framework by taking into account total frequencies of words in the corpora. It helps to penalize too frequent words and provide better features space. \n",
        "\n",
        "Implement function *tfidf_features* using class [TfidfVectorizer](http://scikit-learn.org/stable/modules/generated/sklearn.feature_extraction.text.TfidfVectorizer.html) from *scikit-learn*. Use *train* corpus to train a vectorizer. Don't forget to take a look into the arguments that you can pass to it. We suggest that you filter out too rare words (occur less than in 5 titles) and too frequent words (occur more than in 90% of the titles). Also, use bigrams along with unigrams in your vocabulary. "
      ]
    },
    {
      "cell_type": "code",
      "metadata": {
        "id": "DsuA4LYLaApc"
      },
      "source": [
        "from sklearn.feature_extraction.text import TfidfVectorizer"
      ],
      "execution_count": 28,
      "outputs": []
    },
    {
      "cell_type": "code",
      "metadata": {
        "id": "YMdonOg0aApe"
      },
      "source": [
        "def tfidf_features(X_train, X_val, X_test):\n",
        "    \"\"\"\n",
        "        X_train, X_val, X_test — samples        \n",
        "        return TF-IDF vectorized representation of each sample and vocabulary\n",
        "    \"\"\"\n",
        "    # Create TF-IDF vectorizer with a proper parameters choice\n",
        "    # Fit the vectorizer on the train set\n",
        "    # Transform the train, test, and val sets and return the result\n",
        "    \n",
        "    \n",
        "    tfidf_vectorizer = TfidfVectorizer(min_df=5, max_df=0.9, ngram_range=(1, 2), token_pattern='(\\S+)')\n",
        "    \n",
        "    ######################################\n",
        "    ######### YOUR CODE HERE #############\n",
        "    ######################################\n",
        "    tfidf_vectorizer.fit(X_train)\n",
        "    X_train = tfidf_vectorizer.transform(X_train)\n",
        "    X_val = tfidf_vectorizer.transform(X_val)\n",
        "    X_test = tfidf_vectorizer.transform(X_test)\n",
        "    \n",
        "    return X_train, X_val, X_test, tfidf_vectorizer.vocabulary_"
      ],
      "execution_count": 29,
      "outputs": []
    },
    {
      "cell_type": "markdown",
      "metadata": {
        "id": "pcQuOp6XaAph"
      },
      "source": [
        "Once you have done text preprocessing, always have a look at the results. Be very careful at this step, because the performance of future models will drastically depend on it. \n",
        "\n",
        "In this case, check whether you have c++ or c# in your vocabulary, as they are obviously important tokens in our tags prediction task:"
      ]
    },
    {
      "cell_type": "code",
      "metadata": {
        "id": "3uQAaWsEaAph",
        "outputId": "aea60591-1d81-4e16-d139-f3a5571fae0b",
        "colab": {
          "base_uri": "https://localhost:8080/",
          "height": 68
        }
      },
      "source": [
        "X_train_tfidf, X_val_tfidf, X_test_tfidf, tfidf_vocab = tfidf_features(X_train, X_val, X_test)\n",
        "print(f'X_train_tfidf.shape: {X_train_tfidf.shape}')\n",
        "print(f'X_val_tfidf.shape: {X_val_tfidf.shape}')\n",
        "print(f'X_test_tfidf.shape: {X_test_tfidf.shape}')\n",
        "tfidf_reversed_vocab = {i:word for word,i in tfidf_vocab.items()}"
      ],
      "execution_count": 65,
      "outputs": [
        {
          "output_type": "stream",
          "text": [
            "X_train_tfidf.shape: (100000, 18302)\n",
            "X_val_tfidf.shape: (30000, 18302)\n",
            "X_test_tfidf.shape: (20000, 18302)\n"
          ],
          "name": "stdout"
        }
      ]
    },
    {
      "cell_type": "code",
      "metadata": {
        "id": "nkpUMUnjaApj",
        "outputId": "b0fbedfc-da66-494d-d6d0-973cc7a3a823",
        "colab": {
          "base_uri": "https://localhost:8080/",
          "height": 34
        }
      },
      "source": [
        "######### YOUR CODE HERE #############\n",
        "[i for i in tfidf_reversed_vocab if tfidf_reversed_vocab[i] == 'c++' or tfidf_reversed_vocab[i] == 'c#']"
      ],
      "execution_count": 31,
      "outputs": [
        {
          "output_type": "execute_result",
          "data": {
            "text/plain": [
              "[1977, 1881]"
            ]
          },
          "metadata": {
            "tags": []
          },
          "execution_count": 31
        }
      ]
    },
    {
      "cell_type": "markdown",
      "metadata": {
        "id": "cTFq0ZLcaApk"
      },
      "source": [
        "If you can't find it, we need to understand how did it happen that we lost them? It happened during the built-in tokenization of TfidfVectorizer. Luckily, we can influence on this process. Get back to the function above and use '(\\S+)' regexp as a *token_pattern* in the constructor of the vectorizer.  "
      ]
    },
    {
      "cell_type": "markdown",
      "metadata": {
        "id": "i4GPBbRZaApl"
      },
      "source": [
        "Now, use this transormation for the data and check again."
      ]
    },
    {
      "cell_type": "code",
      "metadata": {
        "id": "aMONo-nXaApl",
        "outputId": "d19fa048-6645-44b6-c241-f9b4acb0e525",
        "colab": {
          "base_uri": "https://localhost:8080/",
          "height": 80
        }
      },
      "source": [
        "######### YOUR CODE HERE #############\n",
        "pd.DataFrame.sparse.from_spmatrix(X_train_tfidf[0]).iloc[:, [1977, 1881]]"
      ],
      "execution_count": 32,
      "outputs": [
        {
          "output_type": "execute_result",
          "data": {
            "text/html": [
              "<div>\n",
              "<style scoped>\n",
              "    .dataframe tbody tr th:only-of-type {\n",
              "        vertical-align: middle;\n",
              "    }\n",
              "\n",
              "    .dataframe tbody tr th {\n",
              "        vertical-align: top;\n",
              "    }\n",
              "\n",
              "    .dataframe thead th {\n",
              "        text-align: right;\n",
              "    }\n",
              "</style>\n",
              "<table border=\"1\" class=\"dataframe\">\n",
              "  <thead>\n",
              "    <tr style=\"text-align: right;\">\n",
              "      <th></th>\n",
              "      <th>1977</th>\n",
              "      <th>1881</th>\n",
              "    </tr>\n",
              "  </thead>\n",
              "  <tbody>\n",
              "    <tr>\n",
              "      <th>0</th>\n",
              "      <td>0.0</td>\n",
              "      <td>0.0</td>\n",
              "    </tr>\n",
              "  </tbody>\n",
              "</table>\n",
              "</div>"
            ],
            "text/plain": [
              "   1977  1881\n",
              "0   0.0   0.0"
            ]
          },
          "metadata": {
            "tags": []
          },
          "execution_count": 32
        }
      ]
    },
    {
      "cell_type": "markdown",
      "metadata": {
        "id": "EwfygHhxaApn"
      },
      "source": [
        "### MultiLabel classifier\n",
        "\n",
        "As we have noticed before, in this task each example can have multiple tags. To deal with such kind of prediction, we need to transform labels in a binary form and the prediction will be a mask of 0s and 1s. For this purpose it is convenient to use [MultiLabelBinarizer](http://scikit-learn.org/stable/modules/generated/sklearn.preprocessing.MultiLabelBinarizer.html) from *sklearn*."
      ]
    },
    {
      "cell_type": "code",
      "metadata": {
        "id": "3rYnkaGNaApn"
      },
      "source": [
        "from sklearn.preprocessing import MultiLabelBinarizer"
      ],
      "execution_count": 33,
      "outputs": []
    },
    {
      "cell_type": "code",
      "metadata": {
        "id": "88nPnaFYaApr",
        "outputId": "d7dacb6e-41fd-426e-9fc4-70b479bc0816",
        "colab": {
          "base_uri": "https://localhost:8080/",
          "height": 51
        }
      },
      "source": [
        "mlb = MultiLabelBinarizer(classes=sorted(tags_counts.keys()))\n",
        "y_train = mlb.fit_transform(y_train)\n",
        "y_val = mlb.fit_transform(y_val)\n",
        "print(f'y_train.shape: {y_train.shape}')\n",
        "print(f'y_val.shape: {y_val.shape}')"
      ],
      "execution_count": 74,
      "outputs": [
        {
          "output_type": "stream",
          "text": [
            "y_train.shape: (100000, 100)\n",
            "y_val.shape: (30000, 100)\n"
          ],
          "name": "stdout"
        }
      ]
    },
    {
      "cell_type": "markdown",
      "metadata": {
        "id": "-1UdQfvtaApt"
      },
      "source": [
        "Implement the function *train_classifier* for training a classifier. In this task we suggest to use One-vs-Rest approach, which is implemented in [OneVsRestClassifier](http://scikit-learn.org/stable/modules/generated/sklearn.multiclass.OneVsRestClassifier.html) class. In this approach *k* classifiers (= number of tags) are trained. As a basic classifier, use [LogisticRegression](http://scikit-learn.org/stable/modules/generated/sklearn.linear_model.LogisticRegression.html). It is one of the simplest methods, but often it performs good enough in text classification tasks. It might take some time, because a number of classifiers to train is large."
      ]
    },
    {
      "cell_type": "code",
      "metadata": {
        "id": "c2F3C_-raApu"
      },
      "source": [
        "from sklearn.multiclass import OneVsRestClassifier\n",
        "from sklearn.linear_model import LogisticRegression, RidgeClassifier"
      ],
      "execution_count": 35,
      "outputs": []
    },
    {
      "cell_type": "code",
      "metadata": {
        "id": "FYKh2NqMaApv"
      },
      "source": [
        "def train_classifier(X_train, y_train, params={}):\n",
        "    \"\"\"\n",
        "      X_train, y_train — training data\n",
        "      \n",
        "      return: trained classifier\n",
        "    \"\"\"\n",
        "    \n",
        "    # Create and fit LogisticRegression wraped into OneVsRestClassifier.\n",
        "\n",
        "    ######################################\n",
        "    ######### YOUR CODE HERE #############\n",
        "    ######################################\n",
        "    params['random_state'] = 42\n",
        "    params['solver'] = 'liblinear'\n",
        "    model = LogisticRegression(**params)\n",
        "    ovr = OneVsRestClassifier(model)\n",
        "    model = ovr.fit(X_train, y_train)\n",
        "    return model"
      ],
      "execution_count": 80,
      "outputs": []
    },
    {
      "cell_type": "markdown",
      "metadata": {
        "id": "Vw24wb-AaApw"
      },
      "source": [
        "Train the classifiers for different data transformations: *bag-of-words* and *tf-idf*.\n",
        "\n",
        "If you receive a convergence warning, please set parameter *max_iter* in LogisticRegression to a larger value (the default is 100)."
      ]
    },
    {
      "cell_type": "code",
      "metadata": {
        "id": "YM0xD1BUkIZy",
        "outputId": "3a8bb41c-856e-4084-88b5-d8310bd86f84",
        "colab": {
          "base_uri": "https://localhost:8080/",
          "height": 68
        }
      },
      "source": [
        "print(X_train_mybag.shape)\n",
        "print(X_train_tfidf.shape)\n",
        "print(y_train.shape)"
      ],
      "execution_count": 84,
      "outputs": [
        {
          "output_type": "stream",
          "text": [
            "(100000, 5000)\n",
            "(100000, 18302)\n",
            "(100000, 100)\n"
          ],
          "name": "stdout"
        }
      ]
    },
    {
      "cell_type": "code",
      "metadata": {
        "id": "X6NRffvVaApx"
      },
      "source": [
        "classifier_mybag = train_classifier(X_train_mybag, y_train)\n",
        "classifier_tfidf = train_classifier(X_train_tfidf, y_train)"
      ],
      "execution_count": 81,
      "outputs": []
    },
    {
      "cell_type": "markdown",
      "metadata": {
        "id": "wDG_ViX-aApz"
      },
      "source": [
        "Now you can create predictions for the data. You will need two types of predictions: labels and scores."
      ]
    },
    {
      "cell_type": "code",
      "metadata": {
        "id": "x9Lnhf2LaAp0"
      },
      "source": [
        "y_val_predicted_labels_mybag = classifier_mybag.predict(X_val_mybag)\n",
        "y_val_predicted_scores_mybag = classifier_mybag.decision_function(X_val_mybag)\n",
        "\n",
        "y_val_predicted_labels_tfidf = classifier_tfidf.predict(X_val_tfidf)\n",
        "y_val_predicted_scores_tfidf = classifier_tfidf.decision_function(X_val_tfidf)"
      ],
      "execution_count": 94,
      "outputs": []
    },
    {
      "cell_type": "markdown",
      "metadata": {
        "id": "qKB9F7zJaAp2"
      },
      "source": [
        "Now take a look at how classifier, which uses TF-IDF, works for a few examples:"
      ]
    },
    {
      "cell_type": "code",
      "metadata": {
        "id": "w0PVciIxnWgk",
        "outputId": "e5d53c90-b9b6-43e3-8b3d-a4f684a23e58",
        "colab": {
          "base_uri": "https://localhost:8080/",
          "height": 34
        }
      },
      "source": [
        "mlb.classes_[y_val[0] == 1]"
      ],
      "execution_count": 105,
      "outputs": [
        {
          "output_type": "execute_result",
          "data": {
            "text/plain": [
              "array(['php', 'sql'], dtype=object)"
            ]
          },
          "metadata": {
            "tags": []
          },
          "execution_count": 105
        }
      ]
    },
    {
      "cell_type": "code",
      "metadata": {
        "id": "rQDw7JhXnHJf",
        "outputId": "071dc6e9-d5a9-4a2f-87cb-9e7015c5b19d",
        "colab": {
          "base_uri": "https://localhost:8080/",
          "height": 221
        }
      },
      "source": [
        "y_val[0] == 1"
      ],
      "execution_count": 102,
      "outputs": [
        {
          "output_type": "execute_result",
          "data": {
            "text/plain": [
              "array([False, False, False, False, False, False, False, False, False,\n",
              "       False, False, False, False, False, False, False, False, False,\n",
              "       False, False, False, False, False, False, False, False, False,\n",
              "       False, False, False, False, False, False, False, False, False,\n",
              "       False, False, False, False, False, False, False, False, False,\n",
              "       False, False, False, False, False, False, False, False, False,\n",
              "       False, False, False, False, False, False,  True, False, False,\n",
              "       False, False, False, False, False, False, False, False, False,\n",
              "       False, False, False, False, False, False, False,  True, False,\n",
              "       False, False, False, False, False, False, False, False, False,\n",
              "       False, False, False, False, False, False, False, False, False,\n",
              "       False])"
            ]
          },
          "metadata": {
            "tags": []
          },
          "execution_count": 102
        }
      ]
    },
    {
      "cell_type": "code",
      "metadata": {
        "id": "uZW_TNemaAp3",
        "outputId": "728a2e10-e6cd-4b7d-e7b0-74c2345ceff6",
        "colab": {
          "base_uri": "https://localhost:8080/",
          "height": 272
        }
      },
      "source": [
        "y_val_pred_inversed = mlb.inverse_transform(y_val_predicted_labels_tfidf)\n",
        "y_val_inversed = mlb.inverse_transform(y_val)\n",
        "for i in range(3):\n",
        "    print('Title:\\t{}\\nTrue labels:\\t{}\\nPredicted labels:\\t{}\\n\\n'.format(\n",
        "        X_val[i],\n",
        "        ','.join(y_val_inversed[i]),\n",
        "        ','.join(y_val_pred_inversed[i])\n",
        "    ))"
      ],
      "execution_count": 95,
      "outputs": [
        {
          "output_type": "stream",
          "text": [
            "Title:\tWhy odbc_exec always fail?\n",
            "True labels:\tphp,sql\n",
            "Predicted labels:\tc#\n",
            "\n",
            "\n",
            "Title:\tAccess a base classes variable from within a child class\n",
            "True labels:\tjavascript\n",
            "Predicted labels:\tc#,class\n",
            "\n",
            "\n",
            "Title:\tContent-Type \"application/json\" not required in rails\n",
            "True labels:\truby,ruby-on-rails\n",
            "Predicted labels:\tjson,ruby-on-rails\n",
            "\n",
            "\n"
          ],
          "name": "stdout"
        }
      ]
    },
    {
      "cell_type": "markdown",
      "metadata": {
        "id": "7zc4QR8saAp5"
      },
      "source": [
        "Now, we would need to compare the results of different predictions, e.g. to see whether TF-IDF transformation helps or to try different regularization techniques in logistic regression. For all these experiments, we need to setup evaluation procedure. "
      ]
    },
    {
      "cell_type": "markdown",
      "metadata": {
        "id": "3A2T6hmeaAp5"
      },
      "source": [
        "### Evaluation\n",
        "\n",
        "To evaluate the results we will use several classification metrics:\n",
        " - [Accuracy](http://scikit-learn.org/stable/modules/generated/sklearn.metrics.accuracy_score.html)\n",
        " - [F1-score](http://scikit-learn.org/stable/modules/generated/sklearn.metrics.f1_score.html)\n",
        " - [Area under ROC-curve](http://scikit-learn.org/stable/modules/generated/sklearn.metrics.roc_auc_score.html)\n",
        " - [Area under precision-recall curve](http://scikit-learn.org/stable/modules/generated/sklearn.metrics.average_precision_score.html#sklearn.metrics.average_precision_score) \n",
        " \n",
        "Make sure you are familiar with all of them. How would you expect the things work for the multi-label scenario? Read about micro/macro/weighted averaging following the sklearn links provided above."
      ]
    },
    {
      "cell_type": "code",
      "metadata": {
        "id": "pUCHs-K7aAp5"
      },
      "source": [
        "from sklearn.metrics import accuracy_score\n",
        "from sklearn.metrics import f1_score\n",
        "from sklearn.metrics import roc_auc_score \n",
        "from sklearn.metrics import average_precision_score\n",
        "from sklearn.metrics import recall_score"
      ],
      "execution_count": 40,
      "outputs": []
    },
    {
      "cell_type": "markdown",
      "metadata": {
        "id": "KZ4PNEWpaAp7"
      },
      "source": [
        "Implement the function *print_evaluation_scores* which calculates and prints to stdout:\n",
        " - *accuracy*\n",
        " - *F1-score macro/micro/weighted*\n",
        " - *Precision macro/micro/weighted*"
      ]
    },
    {
      "cell_type": "code",
      "metadata": {
        "id": "OjTOI02haAp8"
      },
      "source": [
        "def print_evaluation_scores(y_val, predicted):\n",
        "    \n",
        "    ######################################\n",
        "    ######### YOUR CODE HERE #############\n",
        "    ######################################\n",
        "    print(f'         accuracy: {accuracy_score(y_val, predicted)}')\n",
        "    print(f'               f1: {f1_score(y_val, predicted, average=\"weighted\")}')\n",
        "    print(f'          roc_auc: {roc_auc_score (y_val, predicted)}')\n",
        "    print(f'average_precision: {average_precision_score(y_val, predicted)}')\n",
        "    print(f'           recall: {recall_score(y_val, predicted, average=\"weighted\")}')"
      ],
      "execution_count": 41,
      "outputs": []
    },
    {
      "cell_type": "code",
      "metadata": {
        "id": "9DFFESJOaAp9",
        "outputId": "b6722786-cf6b-4b26-99a0-e7feff603e77",
        "colab": {
          "base_uri": "https://localhost:8080/",
          "height": 221
        }
      },
      "source": [
        "print('Bag-of-words')\n",
        "print_evaluation_scores(y_val, y_val_predicted_labels_mybag)\n",
        "print('Tfidf')\n",
        "print_evaluation_scores(y_val, y_val_predicted_labels_tfidf)"
      ],
      "execution_count": 42,
      "outputs": [
        {
          "output_type": "stream",
          "text": [
            "Bag-of-words\n",
            "         accuracy: 0.3579333333333333\n",
            "               f1: 0.6487362621318136\n",
            "          roc_auc: 0.704180346826888\n",
            "average_precision: 0.3444423803031497\n",
            "           recall: 0.5515980174329175\n",
            "Tfidf\n",
            "         accuracy: 0.3339666666666667\n",
            "               f1: 0.6142574506116896\n",
            "          roc_auc: 0.6694066963203699\n",
            "average_precision: 0.30177772300655303\n",
            "           recall: 0.5009058280635789\n"
          ],
          "name": "stdout"
        }
      ]
    },
    {
      "cell_type": "markdown",
      "metadata": {
        "id": "UTiTAPzkaAp_"
      },
      "source": [
        "You might also want to plot some generalization of the [ROC curve](http://scikit-learn.org/stable/modules/model_evaluation.html#receiver-operating-characteristic-roc) for the case of multi-label classification. Provided function *roc_auc* can make it for you. The input parameters of this function are:\n",
        " - true labels\n",
        " - decision functions scores\n",
        " - number of classes"
      ]
    },
    {
      "cell_type": "code",
      "metadata": {
        "id": "7Gur6gibaAp_"
      },
      "source": [
        "from metrics import roc_auc\n",
        "%matplotlib inline"
      ],
      "execution_count": 43,
      "outputs": []
    },
    {
      "cell_type": "code",
      "metadata": {
        "id": "EzhbqoxKaAqB",
        "outputId": "66bc696c-657f-432c-d353-ed535556b05e",
        "colab": {
          "base_uri": "https://localhost:8080/",
          "height": 295
        }
      },
      "source": [
        "n_classes = len(tags_counts)\n",
        "roc_auc(y_val, y_val_predicted_scores_mybag, n_classes)"
      ],
      "execution_count": 44,
      "outputs": [
        {
          "output_type": "display_data",
          "data": {
            "image/png": "[encoded data removed]",
            "text/plain": [
              "<Figure size 432x288 with 1 Axes>"
            ]
          },
          "metadata": {
            "tags": [],
            "needs_background": "light"
          }
        }
      ]
    },
    {
      "cell_type": "code",
      "metadata": {
        "id": "nV8x6W4RaAqE",
        "outputId": "faf8c1d0-7a24-4aab-fc87-a226345677ae",
        "colab": {
          "base_uri": "https://localhost:8080/",
          "height": 295
        }
      },
      "source": [
        "n_classes = len(tags_counts)\n",
        "roc_auc(y_val, y_val_predicted_scores_tfidf, n_classes)"
      ],
      "execution_count": 45,
      "outputs": [
        {
          "output_type": "display_data",
          "data": {
            "image/png": "[encoded data removed]",
            "text/plain": [
              "<Figure size 432x288 with 1 Axes>"
            ]
          },
          "metadata": {
            "tags": [],
            "needs_background": "light"
          }
        }
      ]
    },
    {
      "cell_type": "markdown",
      "metadata": {
        "id": "nTsg77-UaAqF"
      },
      "source": [
        "**Task 4 (MultilabelClassification).** Once we have the evaluation set up, we suggest that you experiment a bit with training your classifiers. We will use *F1-score weighted* as an evaluation metric. Our recommendation:\n",
        "- compare the quality of the bag-of-words and TF-IDF approaches and chose one of them.\n",
        "- for the chosen one, try *L1* and *L2*-regularization techniques in Logistic Regression with different coefficients (e.g. C equal to 0.1, 1, 10, 100).\n",
        "\n",
        "You also could try other improvements of the preprocessing / model, if you want. "
      ]
    },
    {
      "cell_type": "code",
      "metadata": {
        "id": "3d97145taAqG",
        "outputId": "6b9ec9ec-49b5-4c16-e688-cc362cd606a5",
        "colab": {
          "base_uri": "https://localhost:8080/",
          "height": 391
        }
      },
      "source": [
        "from itertools import product\n",
        "from sklearn.linear_model import LogisticRegression\n",
        "######################################\n",
        "######### YOUR CODE HERE #############\n",
        "######################################\n",
        "\n",
        "params_grid = {\n",
        "    'penalty': ['l2', 'l1'],\n",
        "    'solver': ['liblinear'],\n",
        "    'class_weight': [None, 'balanced'],\n",
        "    'C': [0.01, 0.1, 1, 10, 100]\n",
        "}\n",
        "\n",
        "all_params = [dict(zip(params_grid.keys(), i)) for i in product(params_grid['penalty'], params_grid['solver'], params_grid['class_weight'], params_grid['C'])]\n",
        "res = []\n",
        "\n",
        "for p in all_params:\n",
        "    print(f'Currents parameters: {p}')\n",
        "    classifier_mybag = train_classifier(X_train_mybag, y_train, p)\n",
        "    classifier_tfidf = train_classifier(X_train_tfidf, y_train, p)\n",
        "\n",
        "    y_val_predicted_labels_mybag = classifier_mybag.predict(X_val_mybag)\n",
        "    y_val_predicted_scores_mybag = classifier_mybag.decision_function(X_val_mybag)\n",
        "\n",
        "    y_val_predicted_labels_tfidf = classifier_tfidf.predict(X_val_tfidf)\n",
        "    y_val_predicted_scores_tfidf = classifier_tfidf.decision_function(X_val_tfidf)\n",
        "\n",
        "    score_mybag = f1_score(y_val, y_val_predicted_labels_mybag, average=\"weighted\")\n",
        "    score_tfidf = f1_score(y_val, y_val_predicted_labels_tfidf, average=\"weighted\")\n",
        "\n",
        "    res.append((score_mybag, 'mybag', classifier_mybag, p))\n",
        "    res.append((score_tfidf, 'tfidf', classifier_tfidf, p))"
      ],
      "execution_count": 46,
      "outputs": [
        {
          "output_type": "stream",
          "text": [
            "Currents parameters: {'penalty': 'l2', 'solver': 'liblinear', 'class_weight': None, 'C': 0.01}\n",
            "Currents parameters: {'penalty': 'l2', 'solver': 'liblinear', 'class_weight': None, 'C': 0.1}\n",
            "Currents parameters: {'penalty': 'l2', 'solver': 'liblinear', 'class_weight': None, 'C': 1}\n",
            "Currents parameters: {'penalty': 'l2', 'solver': 'liblinear', 'class_weight': None, 'C': 10}\n",
            "Currents parameters: {'penalty': 'l2', 'solver': 'liblinear', 'class_weight': None, 'C': 100}\n",
            "Currents parameters: {'penalty': 'l2', 'solver': 'liblinear', 'class_weight': 'balanced', 'C': 0.01}\n",
            "Currents parameters: {'penalty': 'l2', 'solver': 'liblinear', 'class_weight': 'balanced', 'C': 0.1}\n",
            "Currents parameters: {'penalty': 'l2', 'solver': 'liblinear', 'class_weight': 'balanced', 'C': 1}\n",
            "Currents parameters: {'penalty': 'l2', 'solver': 'liblinear', 'class_weight': 'balanced', 'C': 10}\n",
            "Currents parameters: {'penalty': 'l2', 'solver': 'liblinear', 'class_weight': 'balanced', 'C': 100}\n",
            "Currents parameters: {'penalty': 'l1', 'solver': 'liblinear', 'class_weight': None, 'C': 0.01}\n",
            "Currents parameters: {'penalty': 'l1', 'solver': 'liblinear', 'class_weight': None, 'C': 0.1}\n",
            "Currents parameters: {'penalty': 'l1', 'solver': 'liblinear', 'class_weight': None, 'C': 1}\n",
            "Currents parameters: {'penalty': 'l1', 'solver': 'liblinear', 'class_weight': None, 'C': 10}\n",
            "Currents parameters: {'penalty': 'l1', 'solver': 'liblinear', 'class_weight': None, 'C': 100}\n",
            "Currents parameters: {'penalty': 'l1', 'solver': 'liblinear', 'class_weight': 'balanced', 'C': 0.01}\n",
            "Currents parameters: {'penalty': 'l1', 'solver': 'liblinear', 'class_weight': 'balanced', 'C': 0.1}\n",
            "Currents parameters: {'penalty': 'l1', 'solver': 'liblinear', 'class_weight': 'balanced', 'C': 1}\n",
            "Currents parameters: {'penalty': 'l1', 'solver': 'liblinear', 'class_weight': 'balanced', 'C': 10}\n"
          ],
          "name": "stdout"
        },
        {
          "output_type": "stream",
          "text": [
            "/usr/local/lib/python3.6/dist-packages/sklearn/svm/_base.py:947: ConvergenceWarning: Liblinear failed to converge, increase the number of iterations.\n",
            "  \"the number of iterations.\", ConvergenceWarning)\n"
          ],
          "name": "stderr"
        },
        {
          "output_type": "stream",
          "text": [
            "Currents parameters: {'penalty': 'l1', 'solver': 'liblinear', 'class_weight': 'balanced', 'C': 100}\n"
          ],
          "name": "stdout"
        }
      ]
    },
    {
      "cell_type": "code",
      "metadata": {
        "id": "4jojMfOvBsja",
        "outputId": "99fb387d-5cea-4bf7-deb2-f94c7ce03023",
        "colab": {
          "base_uri": "https://localhost:8080/",
          "height": 1000
        }
      },
      "source": [
        "res_df = pd.DataFrame(res, columns=['score', 'type', 'model', 'params'])\n",
        "# best_classifier = res_df.sort_values(by='score', ascending=False)['model'][1]\n",
        "best_classifier = train_classifier(X_train_tfidf, y_train, {'penalty': 'l1', 'C': 3})\n",
        "res_df.sort_values(by='score', ascending=False)"
      ],
      "execution_count": 110,
      "outputs": [
        {
          "output_type": "execute_result",
          "data": {
            "text/html": [
              "<div>\n",
              "<style scoped>\n",
              "    .dataframe tbody tr th:only-of-type {\n",
              "        vertical-align: middle;\n",
              "    }\n",
              "\n",
              "    .dataframe tbody tr th {\n",
              "        vertical-align: top;\n",
              "    }\n",
              "\n",
              "    .dataframe thead th {\n",
              "        text-align: right;\n",
              "    }\n",
              "</style>\n",
              "<table border=\"1\" class=\"dataframe\">\n",
              "  <thead>\n",
              "    <tr style=\"text-align: right;\">\n",
              "      <th></th>\n",
              "      <th>score</th>\n",
              "      <th>type</th>\n",
              "      <th>model</th>\n",
              "      <th>params</th>\n",
              "    </tr>\n",
              "  </thead>\n",
              "  <tbody>\n",
              "    <tr>\n",
              "      <th>24</th>\n",
              "      <td>0.656112</td>\n",
              "      <td>mybag</td>\n",
              "      <td>OneVsRestClassifier(estimator=LogisticRegressi...</td>\n",
              "      <td>{'penalty': 'l1', 'solver': 'liblinear', 'clas...</td>\n",
              "    </tr>\n",
              "    <tr>\n",
              "      <th>7</th>\n",
              "      <td>0.654136</td>\n",
              "      <td>tfidf</td>\n",
              "      <td>OneVsRestClassifier(estimator=LogisticRegressi...</td>\n",
              "      <td>{'penalty': 'l2', 'solver': 'liblinear', 'clas...</td>\n",
              "    </tr>\n",
              "    <tr>\n",
              "      <th>25</th>\n",
              "      <td>0.652518</td>\n",
              "      <td>tfidf</td>\n",
              "      <td>OneVsRestClassifier(estimator=LogisticRegressi...</td>\n",
              "      <td>{'penalty': 'l1', 'solver': 'liblinear', 'clas...</td>\n",
              "    </tr>\n",
              "    <tr>\n",
              "      <th>6</th>\n",
              "      <td>0.651470</td>\n",
              "      <td>mybag</td>\n",
              "      <td>OneVsRestClassifier(estimator=LogisticRegressi...</td>\n",
              "      <td>{'penalty': 'l2', 'solver': 'liblinear', 'clas...</td>\n",
              "    </tr>\n",
              "    <tr>\n",
              "      <th>4</th>\n",
              "      <td>0.648752</td>\n",
              "      <td>mybag</td>\n",
              "      <td>OneVsRestClassifier(estimator=LogisticRegressi...</td>\n",
              "      <td>{'penalty': 'l2', 'solver': 'liblinear', 'clas...</td>\n",
              "    </tr>\n",
              "    <tr>\n",
              "      <th>27</th>\n",
              "      <td>0.648050</td>\n",
              "      <td>tfidf</td>\n",
              "      <td>OneVsRestClassifier(estimator=LogisticRegressi...</td>\n",
              "      <td>{'penalty': 'l1', 'solver': 'liblinear', 'clas...</td>\n",
              "    </tr>\n",
              "    <tr>\n",
              "      <th>26</th>\n",
              "      <td>0.646606</td>\n",
              "      <td>mybag</td>\n",
              "      <td>OneVsRestClassifier(estimator=LogisticRegressi...</td>\n",
              "      <td>{'penalty': 'l1', 'solver': 'liblinear', 'clas...</td>\n",
              "    </tr>\n",
              "    <tr>\n",
              "      <th>8</th>\n",
              "      <td>0.632867</td>\n",
              "      <td>mybag</td>\n",
              "      <td>OneVsRestClassifier(estimator=LogisticRegressi...</td>\n",
              "      <td>{'penalty': 'l2', 'solver': 'liblinear', 'clas...</td>\n",
              "    </tr>\n",
              "    <tr>\n",
              "      <th>9</th>\n",
              "      <td>0.627580</td>\n",
              "      <td>tfidf</td>\n",
              "      <td>OneVsRestClassifier(estimator=LogisticRegressi...</td>\n",
              "      <td>{'penalty': 'l2', 'solver': 'liblinear', 'clas...</td>\n",
              "    </tr>\n",
              "    <tr>\n",
              "      <th>28</th>\n",
              "      <td>0.618406</td>\n",
              "      <td>mybag</td>\n",
              "      <td>OneVsRestClassifier(estimator=LogisticRegressi...</td>\n",
              "      <td>{'penalty': 'l1', 'solver': 'liblinear', 'clas...</td>\n",
              "    </tr>\n",
              "    <tr>\n",
              "      <th>5</th>\n",
              "      <td>0.614321</td>\n",
              "      <td>tfidf</td>\n",
              "      <td>OneVsRestClassifier(estimator=LogisticRegressi...</td>\n",
              "      <td>{'penalty': 'l2', 'solver': 'liblinear', 'clas...</td>\n",
              "    </tr>\n",
              "    <tr>\n",
              "      <th>22</th>\n",
              "      <td>0.611637</td>\n",
              "      <td>mybag</td>\n",
              "      <td>OneVsRestClassifier(estimator=LogisticRegressi...</td>\n",
              "      <td>{'penalty': 'l1', 'solver': 'liblinear', 'clas...</td>\n",
              "    </tr>\n",
              "    <tr>\n",
              "      <th>17</th>\n",
              "      <td>0.600007</td>\n",
              "      <td>tfidf</td>\n",
              "      <td>OneVsRestClassifier(estimator=LogisticRegressi...</td>\n",
              "      <td>{'penalty': 'l2', 'solver': 'liblinear', 'clas...</td>\n",
              "    </tr>\n",
              "    <tr>\n",
              "      <th>11</th>\n",
              "      <td>0.594360</td>\n",
              "      <td>tfidf</td>\n",
              "      <td>OneVsRestClassifier(estimator=LogisticRegressi...</td>\n",
              "      <td>{'penalty': 'l2', 'solver': 'liblinear', 'clas...</td>\n",
              "    </tr>\n",
              "    <tr>\n",
              "      <th>15</th>\n",
              "      <td>0.594025</td>\n",
              "      <td>tfidf</td>\n",
              "      <td>OneVsRestClassifier(estimator=LogisticRegressi...</td>\n",
              "      <td>{'penalty': 'l2', 'solver': 'liblinear', 'clas...</td>\n",
              "    </tr>\n",
              "    <tr>\n",
              "      <th>35</th>\n",
              "      <td>0.592406</td>\n",
              "      <td>tfidf</td>\n",
              "      <td>OneVsRestClassifier(estimator=LogisticRegressi...</td>\n",
              "      <td>{'penalty': 'l1', 'solver': 'liblinear', 'clas...</td>\n",
              "    </tr>\n",
              "    <tr>\n",
              "      <th>2</th>\n",
              "      <td>0.592040</td>\n",
              "      <td>mybag</td>\n",
              "      <td>OneVsRestClassifier(estimator=LogisticRegressi...</td>\n",
              "      <td>{'penalty': 'l2', 'solver': 'liblinear', 'clas...</td>\n",
              "    </tr>\n",
              "    <tr>\n",
              "      <th>29</th>\n",
              "      <td>0.587658</td>\n",
              "      <td>tfidf</td>\n",
              "      <td>OneVsRestClassifier(estimator=LogisticRegressi...</td>\n",
              "      <td>{'penalty': 'l1', 'solver': 'liblinear', 'clas...</td>\n",
              "    </tr>\n",
              "    <tr>\n",
              "      <th>37</th>\n",
              "      <td>0.586474</td>\n",
              "      <td>tfidf</td>\n",
              "      <td>OneVsRestClassifier(estimator=LogisticRegressi...</td>\n",
              "      <td>{'penalty': 'l1', 'solver': 'liblinear', 'clas...</td>\n",
              "    </tr>\n",
              "    <tr>\n",
              "      <th>13</th>\n",
              "      <td>0.584400</td>\n",
              "      <td>tfidf</td>\n",
              "      <td>OneVsRestClassifier(estimator=LogisticRegressi...</td>\n",
              "      <td>{'penalty': 'l2', 'solver': 'liblinear', 'clas...</td>\n",
              "    </tr>\n",
              "    <tr>\n",
              "      <th>19</th>\n",
              "      <td>0.578744</td>\n",
              "      <td>tfidf</td>\n",
              "      <td>OneVsRestClassifier(estimator=LogisticRegressi...</td>\n",
              "      <td>{'penalty': 'l2', 'solver': 'liblinear', 'clas...</td>\n",
              "    </tr>\n",
              "    <tr>\n",
              "      <th>23</th>\n",
              "      <td>0.566482</td>\n",
              "      <td>tfidf</td>\n",
              "      <td>OneVsRestClassifier(estimator=LogisticRegressi...</td>\n",
              "      <td>{'penalty': 'l1', 'solver': 'liblinear', 'clas...</td>\n",
              "    </tr>\n",
              "    <tr>\n",
              "      <th>39</th>\n",
              "      <td>0.542742</td>\n",
              "      <td>tfidf</td>\n",
              "      <td>OneVsRestClassifier(estimator=LogisticRegressi...</td>\n",
              "      <td>{'penalty': 'l1', 'solver': 'liblinear', 'clas...</td>\n",
              "    </tr>\n",
              "    <tr>\n",
              "      <th>12</th>\n",
              "      <td>0.541608</td>\n",
              "      <td>mybag</td>\n",
              "      <td>OneVsRestClassifier(estimator=LogisticRegressi...</td>\n",
              "      <td>{'penalty': 'l2', 'solver': 'liblinear', 'clas...</td>\n",
              "    </tr>\n",
              "    <tr>\n",
              "      <th>33</th>\n",
              "      <td>0.541342</td>\n",
              "      <td>tfidf</td>\n",
              "      <td>OneVsRestClassifier(estimator=LogisticRegressi...</td>\n",
              "      <td>{'penalty': 'l1', 'solver': 'liblinear', 'clas...</td>\n",
              "    </tr>\n",
              "    <tr>\n",
              "      <th>14</th>\n",
              "      <td>0.539280</td>\n",
              "      <td>mybag</td>\n",
              "      <td>OneVsRestClassifier(estimator=LogisticRegressi...</td>\n",
              "      <td>{'penalty': 'l2', 'solver': 'liblinear', 'clas...</td>\n",
              "    </tr>\n",
              "    <tr>\n",
              "      <th>10</th>\n",
              "      <td>0.538975</td>\n",
              "      <td>mybag</td>\n",
              "      <td>OneVsRestClassifier(estimator=LogisticRegressi...</td>\n",
              "      <td>{'penalty': 'l2', 'solver': 'liblinear', 'clas...</td>\n",
              "    </tr>\n",
              "    <tr>\n",
              "      <th>34</th>\n",
              "      <td>0.531877</td>\n",
              "      <td>mybag</td>\n",
              "      <td>OneVsRestClassifier(estimator=LogisticRegressi...</td>\n",
              "      <td>{'penalty': 'l1', 'solver': 'liblinear', 'clas...</td>\n",
              "    </tr>\n",
              "    <tr>\n",
              "      <th>16</th>\n",
              "      <td>0.530319</td>\n",
              "      <td>mybag</td>\n",
              "      <td>OneVsRestClassifier(estimator=LogisticRegressi...</td>\n",
              "      <td>{'penalty': 'l2', 'solver': 'liblinear', 'clas...</td>\n",
              "    </tr>\n",
              "    <tr>\n",
              "      <th>31</th>\n",
              "      <td>0.526486</td>\n",
              "      <td>tfidf</td>\n",
              "      <td>OneVsRestClassifier(estimator=LogisticRegressi...</td>\n",
              "      <td>{'penalty': 'l1', 'solver': 'liblinear', 'clas...</td>\n",
              "    </tr>\n",
              "    <tr>\n",
              "      <th>32</th>\n",
              "      <td>0.523784</td>\n",
              "      <td>mybag</td>\n",
              "      <td>OneVsRestClassifier(estimator=LogisticRegressi...</td>\n",
              "      <td>{'penalty': 'l1', 'solver': 'liblinear', 'clas...</td>\n",
              "    </tr>\n",
              "    <tr>\n",
              "      <th>18</th>\n",
              "      <td>0.522342</td>\n",
              "      <td>mybag</td>\n",
              "      <td>OneVsRestClassifier(estimator=LogisticRegressi...</td>\n",
              "      <td>{'penalty': 'l2', 'solver': 'liblinear', 'clas...</td>\n",
              "    </tr>\n",
              "    <tr>\n",
              "      <th>36</th>\n",
              "      <td>0.521275</td>\n",
              "      <td>mybag</td>\n",
              "      <td>OneVsRestClassifier(estimator=LogisticRegressi...</td>\n",
              "      <td>{'penalty': 'l1', 'solver': 'liblinear', 'clas...</td>\n",
              "    </tr>\n",
              "    <tr>\n",
              "      <th>38</th>\n",
              "      <td>0.515779</td>\n",
              "      <td>mybag</td>\n",
              "      <td>OneVsRestClassifier(estimator=LogisticRegressi...</td>\n",
              "      <td>{'penalty': 'l1', 'solver': 'liblinear', 'clas...</td>\n",
              "    </tr>\n",
              "    <tr>\n",
              "      <th>30</th>\n",
              "      <td>0.507943</td>\n",
              "      <td>mybag</td>\n",
              "      <td>OneVsRestClassifier(estimator=LogisticRegressi...</td>\n",
              "      <td>{'penalty': 'l1', 'solver': 'liblinear', 'clas...</td>\n",
              "    </tr>\n",
              "    <tr>\n",
              "      <th>20</th>\n",
              "      <td>0.479811</td>\n",
              "      <td>mybag</td>\n",
              "      <td>OneVsRestClassifier(estimator=LogisticRegressi...</td>\n",
              "      <td>{'penalty': 'l1', 'solver': 'liblinear', 'clas...</td>\n",
              "    </tr>\n",
              "    <tr>\n",
              "      <th>3</th>\n",
              "      <td>0.392278</td>\n",
              "      <td>tfidf</td>\n",
              "      <td>OneVsRestClassifier(estimator=LogisticRegressi...</td>\n",
              "      <td>{'penalty': 'l2', 'solver': 'liblinear', 'clas...</td>\n",
              "    </tr>\n",
              "    <tr>\n",
              "      <th>0</th>\n",
              "      <td>0.389747</td>\n",
              "      <td>mybag</td>\n",
              "      <td>OneVsRestClassifier(estimator=LogisticRegressi...</td>\n",
              "      <td>{'penalty': 'l2', 'solver': 'liblinear', 'clas...</td>\n",
              "    </tr>\n",
              "    <tr>\n",
              "      <th>21</th>\n",
              "      <td>0.338793</td>\n",
              "      <td>tfidf</td>\n",
              "      <td>OneVsRestClassifier(estimator=LogisticRegressi...</td>\n",
              "      <td>{'penalty': 'l1', 'solver': 'liblinear', 'clas...</td>\n",
              "    </tr>\n",
              "    <tr>\n",
              "      <th>1</th>\n",
              "      <td>0.048671</td>\n",
              "      <td>tfidf</td>\n",
              "      <td>OneVsRestClassifier(estimator=LogisticRegressi...</td>\n",
              "      <td>{'penalty': 'l2', 'solver': 'liblinear', 'clas...</td>\n",
              "    </tr>\n",
              "  </tbody>\n",
              "</table>\n",
              "</div>"
            ],
            "text/plain": [
              "       score  ...                                             params\n",
              "24  0.656112  ...  {'penalty': 'l1', 'solver': 'liblinear', 'clas...\n",
              "7   0.654136  ...  {'penalty': 'l2', 'solver': 'liblinear', 'clas...\n",
              "25  0.652518  ...  {'penalty': 'l1', 'solver': 'liblinear', 'clas...\n",
              "6   0.651470  ...  {'penalty': 'l2', 'solver': 'liblinear', 'clas...\n",
              "4   0.648752  ...  {'penalty': 'l2', 'solver': 'liblinear', 'clas...\n",
              "27  0.648050  ...  {'penalty': 'l1', 'solver': 'liblinear', 'clas...\n",
              "26  0.646606  ...  {'penalty': 'l1', 'solver': 'liblinear', 'clas...\n",
              "8   0.632867  ...  {'penalty': 'l2', 'solver': 'liblinear', 'clas...\n",
              "9   0.627580  ...  {'penalty': 'l2', 'solver': 'liblinear', 'clas...\n",
              "28  0.618406  ...  {'penalty': 'l1', 'solver': 'liblinear', 'clas...\n",
              "5   0.614321  ...  {'penalty': 'l2', 'solver': 'liblinear', 'clas...\n",
              "22  0.611637  ...  {'penalty': 'l1', 'solver': 'liblinear', 'clas...\n",
              "17  0.600007  ...  {'penalty': 'l2', 'solver': 'liblinear', 'clas...\n",
              "11  0.594360  ...  {'penalty': 'l2', 'solver': 'liblinear', 'clas...\n",
              "15  0.594025  ...  {'penalty': 'l2', 'solver': 'liblinear', 'clas...\n",
              "35  0.592406  ...  {'penalty': 'l1', 'solver': 'liblinear', 'clas...\n",
              "2   0.592040  ...  {'penalty': 'l2', 'solver': 'liblinear', 'clas...\n",
              "29  0.587658  ...  {'penalty': 'l1', 'solver': 'liblinear', 'clas...\n",
              "37  0.586474  ...  {'penalty': 'l1', 'solver': 'liblinear', 'clas...\n",
              "13  0.584400  ...  {'penalty': 'l2', 'solver': 'liblinear', 'clas...\n",
              "19  0.578744  ...  {'penalty': 'l2', 'solver': 'liblinear', 'clas...\n",
              "23  0.566482  ...  {'penalty': 'l1', 'solver': 'liblinear', 'clas...\n",
              "39  0.542742  ...  {'penalty': 'l1', 'solver': 'liblinear', 'clas...\n",
              "12  0.541608  ...  {'penalty': 'l2', 'solver': 'liblinear', 'clas...\n",
              "33  0.541342  ...  {'penalty': 'l1', 'solver': 'liblinear', 'clas...\n",
              "14  0.539280  ...  {'penalty': 'l2', 'solver': 'liblinear', 'clas...\n",
              "10  0.538975  ...  {'penalty': 'l2', 'solver': 'liblinear', 'clas...\n",
              "34  0.531877  ...  {'penalty': 'l1', 'solver': 'liblinear', 'clas...\n",
              "16  0.530319  ...  {'penalty': 'l2', 'solver': 'liblinear', 'clas...\n",
              "31  0.526486  ...  {'penalty': 'l1', 'solver': 'liblinear', 'clas...\n",
              "32  0.523784  ...  {'penalty': 'l1', 'solver': 'liblinear', 'clas...\n",
              "18  0.522342  ...  {'penalty': 'l2', 'solver': 'liblinear', 'clas...\n",
              "36  0.521275  ...  {'penalty': 'l1', 'solver': 'liblinear', 'clas...\n",
              "38  0.515779  ...  {'penalty': 'l1', 'solver': 'liblinear', 'clas...\n",
              "30  0.507943  ...  {'penalty': 'l1', 'solver': 'liblinear', 'clas...\n",
              "20  0.479811  ...  {'penalty': 'l1', 'solver': 'liblinear', 'clas...\n",
              "3   0.392278  ...  {'penalty': 'l2', 'solver': 'liblinear', 'clas...\n",
              "0   0.389747  ...  {'penalty': 'l2', 'solver': 'liblinear', 'clas...\n",
              "21  0.338793  ...  {'penalty': 'l1', 'solver': 'liblinear', 'clas...\n",
              "1   0.048671  ...  {'penalty': 'l2', 'solver': 'liblinear', 'clas...\n",
              "\n",
              "[40 rows x 4 columns]"
            ]
          },
          "metadata": {
            "tags": []
          },
          "execution_count": 110
        }
      ]
    },
    {
      "cell_type": "markdown",
      "metadata": {
        "id": "atRd9YwJaAqI"
      },
      "source": [
        "When you are happy with the quality, create predictions for *test* set, which you will submit to Coursera."
      ]
    },
    {
      "cell_type": "code",
      "metadata": {
        "id": "KzfMIoVEaAqI",
        "outputId": "c317d153-d047-4508-db07-859bfc3c80f3",
        "colab": {
          "base_uri": "https://localhost:8080/",
          "height": 153
        }
      },
      "source": [
        "test_predictions = best_classifier.predict(X_test_tfidf)\n",
        "test_pred_inversed = mlb.inverse_transform(test_predictions)\n",
        "\n",
        "test_predictions_for_submission = '\\n'.join('%i\\t%s' % (i, ','.join(row)) for i, row in enumerate(test_pred_inversed))\n",
        "grader.submit_tag('MultilabelClassification', test_predictions_for_submission)"
      ],
      "execution_count": 111,
      "outputs": [
        {
          "output_type": "stream",
          "text": [
            "Current answer for task MultilabelClassification is:\n",
            " 0\tmysql,php\n",
            "1\thtml,javascript,jquery\n",
            "2\t\n",
            "3\tjavascript,jquery\n",
            "4\tandroid,java\n",
            "5\tparsing,php,xml\n",
            "6\tjson,...\n"
          ],
          "name": "stdout"
        }
      ]
    },
    {
      "cell_type": "markdown",
      "metadata": {
        "id": "28j4ZKz6aAqJ"
      },
      "source": [
        "### Analysis of the most important features"
      ]
    },
    {
      "cell_type": "markdown",
      "metadata": {
        "id": "yr8YgiKzaAqK"
      },
      "source": [
        "Finally, it is usually a good idea to look at the features (words or n-grams) that are used with the largest weigths in your logistic regression model."
      ]
    },
    {
      "cell_type": "markdown",
      "metadata": {
        "id": "2sTMBY8VaAqK"
      },
      "source": [
        "Implement the function *print_words_for_tag* to find them. Get back to sklearn documentation on [OneVsRestClassifier](http://scikit-learn.org/stable/modules/generated/sklearn.multiclass.OneVsRestClassifier.html) and [LogisticRegression](http://scikit-learn.org/stable/modules/generated/sklearn.linear_model.LogisticRegression.html) if needed."
      ]
    },
    {
      "cell_type": "code",
      "metadata": {
        "id": "1HA7pE-ZuaYR",
        "outputId": "441a73af-534d-4ea9-9342-a02b08431433",
        "colab": {
          "base_uri": "https://localhost:8080/",
          "height": 34
        }
      },
      "source": [
        "print('asd')"
      ],
      "execution_count": 49,
      "outputs": [
        {
          "output_type": "stream",
          "text": [
            "asd\n"
          ],
          "name": "stdout"
        }
      ]
    },
    {
      "cell_type": "code",
      "metadata": {
        "id": "j8H6aJTRaAqK"
      },
      "source": [
        "def print_words_for_tag(classifier, tag, tags_classes, index_to_words, all_words):\n",
        "    \"\"\"\n",
        "        classifier: trained classifier\n",
        "        tag: particular tag\n",
        "        tags_classes: a list of classes names from MultiLabelBinarizer\n",
        "        index_to_words: index_to_words transformation\n",
        "        all_words: all words in the dictionary\n",
        "        \n",
        "        return nothing, just print top 5 positive and top 5 negative words for current tag\n",
        "    \"\"\"\n",
        "    print('Tag:\\t{}'.format(tag))\n",
        "    \n",
        "    # Extract an estimator from the classifier for the given tag.\n",
        "    # Extract feature coefficients from the estimator. \n",
        "    \n",
        "    ######################################\n",
        "    ######### YOUR CODE HERE #############\n",
        "    ######################################\n",
        "    print(tags_classes.index(tag))\n",
        "    weights = classifier.coef_[tags_classes.index(tag)].argsort()\n",
        "    top_positive_words = [index_to_words[i] for i in weights[-5:][::-1]]\n",
        "    top_negative_words = [index_to_words[i] for i in weights[:5][::-1]]\n",
        "    print('Top positive words:\\t{}'.format(', '.join(top_positive_words)))\n",
        "    print('Top negative words:\\t{}\\n'.format(', '.join(top_negative_words)))"
      ],
      "execution_count": 112,
      "outputs": []
    },
    {
      "cell_type": "code",
      "metadata": {
        "id": "LeCwsHgAaAqN",
        "outputId": "ad92d112-2d3c-404d-abc4-33d903c1bb94",
        "colab": {
          "base_uri": "https://localhost:8080/",
          "height": 272
        }
      },
      "source": [
        "print_words_for_tag(best_classifier, 'c', mlb.classes, tfidf_reversed_vocab, ALL_WORDS)\n",
        "print_words_for_tag(best_classifier, 'c++', mlb.classes, tfidf_reversed_vocab, ALL_WORDS)\n",
        "print_words_for_tag(best_classifier, 'linux', mlb.classes, tfidf_reversed_vocab, ALL_WORDS)"
      ],
      "execution_count": 113,
      "outputs": [
        {
          "output_type": "stream",
          "text": [
            "Tag:\tc\n",
            "9\n",
            "Top positive words:\tc, malloc, scanf, fscanf, c++ java\n",
            "Top negative words:\tpython, java, javascript, begin, php\n",
            "\n",
            "Tag:\tc++\n",
            "11\n",
            "Top positive words:\tc++, qt, stdstring, boost, stl\n",
            "Top negative words:\tjquery, javascript, c++ stl, java, php\n",
            "\n",
            "Tag:\tlinux\n",
            "44\n",
            "Top positive words:\tlinux, kernel space, system call, dlopen, killed\n",
            "Top negative words:\tc#, javascript, codeigniter, nokogiri, aspnet\n",
            "\n"
          ],
          "name": "stdout"
        }
      ]
    },
    {
      "cell_type": "markdown",
      "metadata": {
        "id": "5gZYYi5OaAqO"
      },
      "source": [
        "### Authorization & Submission\n",
        "To submit the assignmnent to Cousera platform, please, enter your e-mail and token into variables below. You can generate the token on this programming assignment page. <b>Note:</b> The token expires 30 minutes after generation.\n",
        "\n",
        "Please, submit your solutions for the assignments **only** to Coursera platform, **do not create a Pull request on Github**."
      ]
    },
    {
      "cell_type": "code",
      "metadata": {
        "id": "Z1ydOtVmaAqP",
        "outputId": "fadb22af-263f-40e1-d86c-3382a3bc4ef7",
        "colab": {
          "base_uri": "https://localhost:8080/",
          "height": 340
        }
      },
      "source": [
        "grader.status()"
      ],
      "execution_count": 114,
      "outputs": [
        {
          "output_type": "stream",
          "text": [
            "You want to submit these parts:\n",
            "Task TextPrepare:\n",
            " sqlite php readonly\n",
            "creating multiple textboxes dynamically\n",
            "self one prefer javascript\n",
            "save php date...\n",
            "Task WordsTagsCount:\n",
            " javascript,c#,java\n",
            "using,php,java...\n",
            "Task BagOfWords:\n",
            " 7...\n",
            "Task MultilabelClassification:\n",
            " 0\tmysql,php\n",
            "1\thtml,javascript,jquery\n",
            "2\t\n",
            "3\tjavascript,jquery\n",
            "4\tandroid,java\n",
            "5\tparsing,php,xml\n",
            "6\tjson,...\n"
          ],
          "name": "stdout"
        }
      ]
    },
    {
      "cell_type": "code",
      "metadata": {
        "id": "LFfctonOaAqQ",
        "outputId": "d648a7a4-22b1-45ae-c29f-aee748fddf7e",
        "colab": {
          "base_uri": "https://localhost:8080/",
          "height": 340
        }
      },
      "source": [
        "STUDENT_EMAIL = 'komissarov.semyon@gmail.com'\n",
        "STUDENT_TOKEN = 'FmJOOZYPXiMf4JZN' \n",
        "grader.status()"
      ],
      "execution_count": 117,
      "outputs": [
        {
          "output_type": "stream",
          "text": [
            "You want to submit these parts:\n",
            "Task TextPrepare:\n",
            " sqlite php readonly\n",
            "creating multiple textboxes dynamically\n",
            "self one prefer javascript\n",
            "save php date...\n",
            "Task WordsTagsCount:\n",
            " javascript,c#,java\n",
            "using,php,java...\n",
            "Task BagOfWords:\n",
            " 7...\n",
            "Task MultilabelClassification:\n",
            " 0\tmysql,php\n",
            "1\thtml,javascript,jquery\n",
            "2\t\n",
            "3\tjavascript,jquery\n",
            "4\tandroid,java\n",
            "5\tparsing,php,xml\n",
            "6\tjson,...\n"
          ],
          "name": "stdout"
        }
      ]
    },
    {
      "cell_type": "markdown",
      "metadata": {
        "id": "4Nb5-HYLaAqS"
      },
      "source": [
        "If you want to submit these answers, run cell below"
      ]
    },
    {
      "cell_type": "code",
      "metadata": {
        "id": "CXoOurZvaAqS",
        "outputId": "81699c9d-e61c-4070-e4fa-0578747f9ea5",
        "colab": {
          "base_uri": "https://localhost:8080/",
          "height": 34
        }
      },
      "source": [
        "grader.submit(STUDENT_EMAIL, STUDENT_TOKEN)"
      ],
      "execution_count": 118,
      "outputs": [
        {
          "output_type": "stream",
          "text": [
            "Submitted to Coursera platform. See results on assignment page!\n"
          ],
          "name": "stdout"
        }
      ]
    },
    {
      "cell_type": "code",
      "metadata": {
        "id": "KmvNzfoVf1A8"
      },
      "source": [
        ""
      ],
      "execution_count": null,
      "outputs": []
    }
  ]
}